{
 "cells": [
  {
   "cell_type": "markdown",
   "id": "agricultural-antibody",
   "metadata": {},
   "source": [
    "**To be able to run this notebook you need to install the modified PennyLane version that contains the `qml.kernels` module via**\n",
    "```\n",
    "pip install git+https://www.github.com/johannesjmeyer/pennylane@kernel_module --upgrade\n",
    "```"
   ]
  },
  {
   "cell_type": "markdown",
   "id": "departmental-generator",
   "metadata": {},
   "source": [
    "### Initialization and circuit definitions"
   ]
  },
  {
   "cell_type": "code",
   "execution_count": 1,
   "id": "matched-array",
   "metadata": {},
   "outputs": [],
   "source": [
    "import pennylane as qml\n",
    "from pennylane import numpy as np\n",
    "import matplotlib as mpl\n",
    "import matplotlib.pyplot as plt\n",
    "from sklearn.svm import SVC\n",
    "from sklearn import datasets\n",
    "\n",
    "np.random.seed(42)"
   ]
  },
  {
   "cell_type": "markdown",
   "id": "indoor-jewelry",
   "metadata": {},
   "source": [
    "## Define circuit"
   ]
  },
  {
   "cell_type": "code",
   "execution_count": 2,
   "id": "bored-steel",
   "metadata": {
    "lines_to_next_cell": 0
   },
   "outputs": [],
   "source": [
    "def layer(x, params, wires, i0=0, inc=1):\n",
    "    \"\"\"Building block of the embedding Ansatz\"\"\"\n",
    "    i = i0\n",
    "    for j, wire in enumerate(wires):\n",
    "        qml.Hadamard(wires=[wire])\n",
    "        qml.RZ(x[i % len(x)], wires=[wire])\n",
    "        i += inc\n",
    "        qml.RY(params[0, j], wires=[wire])\n",
    "        \n",
    "    qml.broadcast(unitary=qml.CRZ, pattern=\"ring\", wires=wires, parameters=params[1])\n",
    "\n",
    "@qml.template\n",
    "def ansatz(x, params, wires):\n",
    "    \"\"\"The embedding Ansatz\"\"\"\n",
    "    for j, layer_params in enumerate(params):\n",
    "        layer(x, layer_params, wires, i0=j * len(wires))"
   ]
  },
  {
   "cell_type": "code",
   "execution_count": 3,
   "id": "thrown-surgery",
   "metadata": {},
   "outputs": [],
   "source": [
    "def random_params(num_wires, num_layers):\n",
    "    return np.random.uniform(0, 2*np.pi, (num_layers, 2, num_wires))\n",
    "\n",
    "def accuracy(classifier, X, Y_target):\n",
    "    return 1 - np.count_nonzero(classifier.predict(X) - Y_target) / len(Y_target)\n",
    "\n",
    "def accuracy_predict(Y_predict, Y_target):\n",
    "    return 1 - np.count_nonzero(Y_predict - Y_target) / len(Y_target)"
   ]
  },
  {
   "cell_type": "markdown",
   "id": "southwest-paris",
   "metadata": {},
   "source": [
    "## Define circuit hyperparameters"
   ]
  },
  {
   "cell_type": "code",
   "execution_count": 4,
   "id": "super-emperor",
   "metadata": {
    "lines_to_next_cell": 2
   },
   "outputs": [],
   "source": [
    "features = 2\n",
    "width = 3\n",
    "depth = 3"
   ]
  },
  {
   "cell_type": "markdown",
   "id": "clean-rotation",
   "metadata": {},
   "source": [
    "## Intialize device and hyperparameters"
   ]
  },
  {
   "cell_type": "code",
   "execution_count": 5,
   "id": "danish-transport",
   "metadata": {},
   "outputs": [],
   "source": [
    "# init device\n",
    "dev = qml.device(\"default.qubit\", wires=width)\n",
    "wires = list(range(width))\n",
    "\n",
    "# init the embedding kernel\n",
    "k = qml.kernels.EmbeddingKernel(lambda x, params: ansatz(x, params, wires), dev)"
   ]
  },
  {
   "cell_type": "markdown",
   "id": "systematic-dublin",
   "metadata": {},
   "source": [
    "## Define dataset\n",
    "\n",
    "Two pairs of concenctric circles centered at +/- 1 and small radius .4, big radius .8.\n",
    "Classes are inverted right and left"
   ]
  },
  {
   "cell_type": "code",
   "execution_count": 6,
   "id": "current-moses",
   "metadata": {},
   "outputs": [],
   "source": [
    "def datagen (n_train, n_test):\n",
    "    # generate data in two circles\n",
    "    # the radii are chosen so that data is balanced\n",
    "    n_part = int(n_train/2)\n",
    "    n_test = int(n_test/2)\n",
    "    i = 0\n",
    "    X = []\n",
    "    X_ = []\n",
    "    y = []\n",
    "    y_ = []\n",
    "    while (i<n_part):\n",
    "        x1 = np.random.uniform(-.707,.707) # 0.707... = 0.5*\\sqrt(2)\n",
    "        x2 = np.random.uniform(-.707,.707)\n",
    "        if((x1)*(x1) + x2*x2 < .5):\n",
    "            i+=1\n",
    "            X.append([1+x1,x2])\n",
    "            if(x1*x1 + x2*x2 < .25):\n",
    "                y.append(1)\n",
    "            else:\n",
    "                y.append(-1)\n",
    "    \n",
    "    i=0\n",
    "    while(i<n_part):\n",
    "        x1 = np.random.uniform(-.707,.707)\n",
    "        x2 = np.random.uniform(-.707,.707)\n",
    "        if(x1*x1 + x2*x2 <.5):\n",
    "            i+=1\n",
    "            X.append([x1-1,x2])\n",
    "            if(x1*x1 + x2*x2 < .25):\n",
    "                y.append(-1)\n",
    "            else:\n",
    "                y.append(1)\n",
    "    \n",
    "    i = 0\n",
    "    while (i<n_test):\n",
    "        x1 = np.random.uniform(-.707,.707)\n",
    "        x2 = np.random.uniform(-.707,.707)\n",
    "        if(x1*x1 + x2*x2 < .5):\n",
    "            i+=1\n",
    "            X_.append([1+x1,x2])\n",
    "            if(x1*x1 + x2*x2 < .25):\n",
    "                y_.append(1)\n",
    "            else:\n",
    "                y_.append(-1)\n",
    "    \n",
    "    i=0\n",
    "    while(i<n_test):\n",
    "        x1 = np.random.uniform(-.707,.707)\n",
    "        x2 = np.random.uniform(-.707,.707)\n",
    "        if(x1*x1 + x2*x2 <.5):\n",
    "            i+=1\n",
    "            X_.append([x1-1,x2])\n",
    "            if(x1*x1 + x2*x2 < .25):\n",
    "                y_.append(-1)\n",
    "            else:\n",
    "                y_.append(1)\n",
    "            \n",
    "    return X,y, X_,y_"
   ]
  },
  {
   "cell_type": "code",
   "execution_count": 7,
   "id": "unavailable-counter",
   "metadata": {},
   "outputs": [],
   "source": [
    "X_train ,y_train, X_test, y_test = datagen(60,60)"
   ]
  },
  {
   "cell_type": "code",
   "execution_count": 8,
   "id": "sealed-radius",
   "metadata": {},
   "outputs": [],
   "source": [
    "X_train = np.asarray(X_train)\n",
    "y_train = np.asarray(y_train)\n",
    "X_test = np.asarray(X_test)\n",
    "y_test = np.asarray(y_test)"
   ]
  },
  {
   "cell_type": "code",
   "execution_count": 9,
   "id": "talented-pottery",
   "metadata": {},
   "outputs": [
    {
     "data": {
      "text/plain": [
       "((60, 2), (60, 2))"
      ]
     },
     "execution_count": 9,
     "metadata": {},
     "output_type": "execute_result"
    }
   ],
   "source": [
    "X_train.shape, X_test.shape"
   ]
  },
  {
   "cell_type": "code",
   "execution_count": 10,
   "id": "considerable-breakfast",
   "metadata": {},
   "outputs": [
    {
     "name": "stdout",
     "output_type": "stream",
     "text": [
      "The training data is as follows:\n"
     ]
    },
    {
     "data": {
      "image/png": "[encoded data removed]",
      "text/plain": [
       "<Figure size 432x288 with 1 Axes>"
      ]
     },
     "metadata": {
      "needs_background": "light"
     },
     "output_type": "display_data"
    }
   ],
   "source": [
    "# plot for visual inspection\n",
    "print(\"The training data is as follows:\")\n",
    "plt.scatter(X_train[np.where(y_train == 1)[0],0], X_train[np.where(y_train == 1)[0],1], color=\"b\", marker=\".\", label=\"train, 1\")\n",
    "plt.scatter(X_train[np.where(y_train == -1)[0],0], X_train[np.where(y_train == -1)[0],1], color=\"r\", marker=\".\", label=\"train, -1\")\n",
    "#print(\"The test data is as follows:\")\n",
    "plt.scatter(X_test[np.where(y_test == 1)[0],0], X_test[np.where(y_test == 1)[0],1], color=\"b\", marker=\"x\", label=\"test, 1\")\n",
    "plt.scatter(X_test[np.where(y_test == -1)[0],0], X_test[np.where(y_test == -1)[0],1], color=\"r\", marker=\"x\", label=\"test, -1\")\n",
    "plt.ylim([-1, 1])\n",
    "plt.xlim([-2, 2])\n",
    "plt.legend()\n",
    "plt.show()"
   ]
  },
  {
   "cell_type": "markdown",
   "id": "square-defense",
   "metadata": {},
   "source": [
    "# Random Parameters\n",
    "\n",
    "### Assessment of random initialization"
   ]
  },
  {
   "cell_type": "code",
   "execution_count": 11,
   "id": "sudden-secondary",
   "metadata": {},
   "outputs": [
    {
     "name": "stdout",
     "output_type": "stream",
     "text": [
      "without kernel training accuracy on test 0.7\n",
      "without kernel training accuracy on train 0.65\n",
      "going with 0.7\n"
     ]
    }
   ],
   "source": [
    "# make various runs with random parameters to see what range the results can be in\n",
    "acc_log = []\n",
    "params_log = []\n",
    "test_predict_log = []\n",
    "train_predict_log = []\n",
    "for i in range(1):\n",
    "    ## choose random params for the kernel\n",
    "    params = random_params(width, depth)\n",
    "    #print(params)\n",
    "    ## fit the SVM on the training data\n",
    "    svm_untrained_kernel = SVC(kernel=lambda X1, X2: k.kernel_matrix(X1, X2, params)).fit(X_train, y_train)\n",
    "    ## evaluate on the test set\n",
    "    test_predict_log.append(svm_untrained_kernel.predict(X_test))\n",
    "    train_predict_log.append(svm_untrained_kernel.predict(X_train))\n",
    "    untrained_accuracy_test = accuracy_predict(test_predict_log[-1], y_test)\n",
    "    untrained_accuracy_train = accuracy_predict(train_predict_log[-1], y_train)\n",
    "    print(\"without kernel training accuracy on test\", untrained_accuracy_test)\n",
    "    print(\"without kernel training accuracy on train\", untrained_accuracy_train)\n",
    "    acc_log.append(untrained_accuracy_test)\n",
    "    params_log.append(params)\n",
    "print(\"going with\", acc_log[np.argmin(np.asarray(acc_log))])"
   ]
  },
  {
   "cell_type": "code",
   "execution_count": 12,
   "id": "chronic-platinum",
   "metadata": {},
   "outputs": [],
   "source": [
    "params_random = params_log[np.argmin(np.asarray(acc_log))]"
   ]
  },
  {
   "cell_type": "code",
   "execution_count": 14,
   "id": "perceived-istanbul",
   "metadata": {},
   "outputs": [],
   "source": [
    "startx = -2\n",
    "stopx = 2\n",
    "starty = -1\n",
    "stopy = 1\n",
    "num = 20\n",
    "\n",
    "X_dummy = []\n",
    "\n",
    "incx = (stopx-startx)/num\n",
    "incy = (stopy-starty)/num\n",
    "\n",
    "for i in range(num):\n",
    "    for j in range(num):\n",
    "        X_dummy.append([startx + i*incx,starty + j*incy])"
   ]
  },
  {
   "cell_type": "markdown",
   "id": "arbitrary-mercy",
   "metadata": {},
   "source": [
    "## Train SVM"
   ]
  },
  {
   "cell_type": "code",
   "execution_count": 15,
   "id": "circular-estate",
   "metadata": {},
   "outputs": [],
   "source": [
    "y_dummy_random = svm_untrained_kernel.decision_function(X_dummy)"
   ]
  },
  {
   "cell_type": "code",
   "execution_count": 17,
   "id": "preliminary-monitoring",
   "metadata": {},
   "outputs": [],
   "source": [
    "X_dummy = np.asarray(X_dummy)\n",
    "y_dummy_random = np.asarray(y_dummy_random)"
   ]
  },
  {
   "cell_type": "markdown",
   "id": "agricultural-benchmark",
   "metadata": {},
   "source": [
    "## Save results and create plot"
   ]
  },
  {
   "cell_type": "code",
   "execution_count": 19,
   "id": "soviet-russian",
   "metadata": {},
   "outputs": [
    {
     "data": {
      "text/plain": [
       "<matplotlib.legend.Legend at 0x7f2e8cec4970>"
      ]
     },
     "execution_count": 19,
     "metadata": {},
     "output_type": "execute_result"
    },
    {
     "data": {
      "image/png": "[encoded data removed]",
      "text/plain": [
       "<Figure size 432x288 with 1 Axes>"
      ]
     },
     "metadata": {
      "needs_background": "light"
     },
     "output_type": "display_data"
    }
   ],
   "source": [
    "y_dummy_random = np.asarray(y_dummy_random)\n",
    "y_dummy_random_label = np.sign(y_dummy_random)\n",
    "\n",
    "plt.scatter(X_dummy[np.where(y_dummy_random_label == 1)[0],0], X_dummy[np.where(y_dummy_random_label == 1)[0],1], color=\"b\", marker=\".\",label=\"dummy, 1\")\n",
    "plt.scatter(X_dummy[np.where(y_dummy_random_label == -1)[0],0], X_dummy[np.where(y_dummy_random_label == -1)[0],1], color=\"r\", marker=\".\",label=\"dummy, -1\")\n",
    "plt.scatter(X_train[np.where(y_train == 1)[0],0], X_train[np.where(y_train == 1)[0],1], color=\"b\", marker=\"+\", label=\"train, 1\")\n",
    "plt.scatter(X_train[np.where(y_train == -1)[0],0], X_train[np.where(y_train == -1)[0],1], color=\"r\", marker=\"+\", label=\"train, -1\")\n",
    "plt.scatter(X_test[np.where(y_test == 1)[0],0], X_test[np.where(y_test == 1)[0],1], color=\"b\", marker=\"x\", label=\"test, 1\")\n",
    "plt.scatter(X_test[np.where(y_test == -1)[0],0], X_test[np.where(y_test == -1)[0],1], color=\"r\", marker=\"x\", label=\"test, -1\")\n",
    "plt.ylim([-1, 1])\n",
    "plt.xlim([-2, 2])\n",
    "plt.legend()\n"
   ]
  },
  {
   "cell_type": "code",
   "execution_count": 23,
   "id": "seven-platinum",
   "metadata": {},
   "outputs": [],
   "source": [
    "filename = \"dataset_symmetricdonuts_randomtest_depth_3_width_3.npy\""
   ]
  },
  {
   "cell_type": "code",
   "execution_count": 26,
   "id": "discrete-blanket",
   "metadata": {},
   "outputs": [],
   "source": [
    "y_test = np.asarray(y_test)\n",
    "with open(filename, 'wb') as f:\n",
    "    np.save(f, X_dummy)\n",
    "    np.save(f, y_dummy_random_label)\n",
    "    np.save(f, y_dummy)\n",
    "    np.save(f, X_train)\n",
    "    np.save(f, y_train)\n",
    "    np.save(f, X_test)\n",
    "    np.save(f, y_test)"
   ]
  },
  {
   "cell_type": "markdown",
   "id": "verified-nebraska",
   "metadata": {},
   "source": [
    "# Trained Parameters\n",
    "\n",
    "### Gradient Ascent Alignment"
   ]
  },
  {
   "cell_type": "code",
   "execution_count": null,
   "id": "posted-nicaragua",
   "metadata": {
    "lines_to_next_cell": 0
   },
   "outputs": [],
   "source": [
    "# evaluate the performance with trained parameters for the kernel\n",
    "## train the kernel\n",
    "opt = qml.GradientDescentOptimizer(1)\n",
    "for i in range(1000):\n",
    "    subset = np.random.choice(list(range(len(X_train))), 4)\n",
    "    params = opt.step(lambda _params: -k.target_alignment(X_train[subset], y_train[subset], _params), params)\n",
    "    \n",
    "    if (i+1) % 50 == 0:\n",
    "        print(\"Step {} - Alignment on train = {:.3f}\".format(i+1, k.target_alignment(X_train, y_train, params)))\n",
    "# ### Train SVM\n",
    "# evaluate the performance with trained parameters for the kernel\n",
    "## train the kernel\n",
    "#opt = qml.GradientDescentOptimizer(1)\n",
    "#for i in range(1000):\n",
    "#    subset = np.random.choice(list(range(len(X_train))), 4)\n",
    "#    params = opt.step(lambda _params: -k.target_alignment(X_train[subset], y_train[subset], _params), params)\n",
    "    \n",
    "#    if (i+1) % 50 == 0:\n",
    "#        print(\"Step {} - Alignment on train = {:.3f}\".format(i+1, k.target_alignment(X_train, y_train, params)))\n",
    "# ### Train SVM"
   ]
  },
  {
   "cell_type": "code",
   "execution_count": null,
   "id": "forced-northern",
   "metadata": {},
   "outputs": [],
   "source": [
    "opt = qml.GradientDescentOptimizer(1)\n",
    "for i in range(1000):\n",
    "\n",
    "    subset = np.random.choice(list(range(len(X_train))), 4)\n",
    "    params = opt.step(lambda _params: -k.target_alignment(X_train[subset], y_train[subset], _params), params)\n",
    "    \n",
    "    if (i+1) % 50 == 0:\n",
    "        print(\"Step {} - Alignment on train = {:.3f}\".format(i+1, k.target_alignment(X_train, y_train, params)))"
   ]
  },
  {
   "cell_type": "code",
   "execution_count": 15,
   "id": "amber-peeing",
   "metadata": {
    "lines_to_next_cell": 0
   },
   "outputs": [
    {
     "name": "stdout",
     "output_type": "stream",
     "text": [
      "with kernel training accuracy on train 0.65\n",
      "with kernel training accuracy on test 0.7\n"
     ]
    }
   ],
   "source": [
    "## fit the SVM on the train set\n",
    "svm_trained_kernel = SVC(kernel=lambda X1, X2: k.kernel_matrix(X1, X2, params)).fit(X_train, y_train)\n",
    "p_train = svm_trained_kernel.predict(X_train)\n",
    "p_test = svm_trained_kernel.predict(X_test)\n",
    "\n",
    "## evaluate the accuracy on the test set\n",
    "trained_accuracy = accuracy(svm_trained_kernel, X_train, y_train)\n",
    "test_accuracy = accuracy(svm_trained_kernel, X_test, y_test)\n",
    "print(\"with kernel training accuracy on train\", trained_accuracy)\n",
    "print(\"with kernel training accuracy on test\", test_accuracy)"
   ]
  },
  {
   "cell_type": "markdown",
   "id": "daily-moral",
   "metadata": {},
   "source": [
    "### Plot results"
   ]
  },
  {
   "cell_type": "code",
   "execution_count": 21,
   "id": "mysterious-spank",
   "metadata": {},
   "outputs": [],
   "source": [
    "startx = -2\n",
    "stopx = 2\n",
    "starty = -1\n",
    "stopy = 1\n",
    "num = 20\n",
    "\n",
    "X_dummy = []\n",
    "\n",
    "incx = (stopx-startx)/num\n",
    "incy = (stopy-starty)/num\n",
    "\n",
    "for i in range(num):\n",
    "    for j in range(num):\n",
    "        X_dummy.append([startx + i*incx,starty + j*incy])"
   ]
  },
  {
   "cell_type": "code",
   "execution_count": 22,
   "id": "general-circumstances",
   "metadata": {},
   "outputs": [
    {
     "ename": "KeyboardInterrupt",
     "evalue": "",
     "output_type": "error",
     "traceback": [
      "\u001b[0;31m---------------------------------------------------------------------------\u001b[0m",
      "\u001b[0;31mKeyboardInterrupt\u001b[0m                         Traceback (most recent call last)",
      "\u001b[0;32m<ipython-input-22-11ff41521de0>\u001b[0m in \u001b[0;36m<module>\u001b[0;34m\u001b[0m\n\u001b[0;32m----> 1\u001b[0;31m \u001b[0my_dummy\u001b[0m \u001b[0;34m=\u001b[0m \u001b[0msvm_trained_kernel\u001b[0m\u001b[0;34m.\u001b[0m\u001b[0mdecision_function\u001b[0m\u001b[0;34m(\u001b[0m\u001b[0mX_dummy\u001b[0m\u001b[0;34m)\u001b[0m\u001b[0;34m\u001b[0m\u001b[0;34m\u001b[0m\u001b[0m\n\u001b[0m",
      "\u001b[0;32m~/Documents/qhack/qhack_env/lib/python3.8/site-packages/sklearn/svm/_base.py\u001b[0m in \u001b[0;36mdecision_function\u001b[0;34m(self, X)\u001b[0m\n\u001b[1;32m    590\u001b[0m         \u001b[0mtransformation\u001b[0m \u001b[0mof\u001b[0m \u001b[0movo\u001b[0m \u001b[0mdecision\u001b[0m \u001b[0mfunction\u001b[0m\u001b[0;34m.\u001b[0m\u001b[0;34m\u001b[0m\u001b[0;34m\u001b[0m\u001b[0m\n\u001b[1;32m    591\u001b[0m         \"\"\"\n\u001b[0;32m--> 592\u001b[0;31m         \u001b[0mdec\u001b[0m \u001b[0;34m=\u001b[0m \u001b[0mself\u001b[0m\u001b[0;34m.\u001b[0m\u001b[0m_decision_function\u001b[0m\u001b[0;34m(\u001b[0m\u001b[0mX\u001b[0m\u001b[0;34m)\u001b[0m\u001b[0;34m\u001b[0m\u001b[0;34m\u001b[0m\u001b[0m\n\u001b[0m\u001b[1;32m    593\u001b[0m         \u001b[0;32mif\u001b[0m \u001b[0mself\u001b[0m\u001b[0;34m.\u001b[0m\u001b[0mdecision_function_shape\u001b[0m \u001b[0;34m==\u001b[0m \u001b[0;34m'ovr'\u001b[0m \u001b[0;32mand\u001b[0m \u001b[0mlen\u001b[0m\u001b[0;34m(\u001b[0m\u001b[0mself\u001b[0m\u001b[0;34m.\u001b[0m\u001b[0mclasses_\u001b[0m\u001b[0;34m)\u001b[0m \u001b[0;34m>\u001b[0m \u001b[0;36m2\u001b[0m\u001b[0;34m:\u001b[0m\u001b[0;34m\u001b[0m\u001b[0;34m\u001b[0m\u001b[0m\n\u001b[1;32m    594\u001b[0m             \u001b[0;32mreturn\u001b[0m \u001b[0m_ovr_decision_function\u001b[0m\u001b[0;34m(\u001b[0m\u001b[0mdec\u001b[0m \u001b[0;34m<\u001b[0m \u001b[0;36m0\u001b[0m\u001b[0;34m,\u001b[0m \u001b[0;34m-\u001b[0m\u001b[0mdec\u001b[0m\u001b[0;34m,\u001b[0m \u001b[0mlen\u001b[0m\u001b[0;34m(\u001b[0m\u001b[0mself\u001b[0m\u001b[0;34m.\u001b[0m\u001b[0mclasses_\u001b[0m\u001b[0;34m)\u001b[0m\u001b[0;34m)\u001b[0m\u001b[0;34m\u001b[0m\u001b[0;34m\u001b[0m\u001b[0m\n",
      "\u001b[0;32m~/Documents/qhack/qhack_env/lib/python3.8/site-packages/sklearn/svm/_base.py\u001b[0m in \u001b[0;36m_decision_function\u001b[0;34m(self, X)\u001b[0m\n\u001b[1;32m    416\u001b[0m         \u001b[0;31m# hence must be placed before any other attributes are used.\u001b[0m\u001b[0;34m\u001b[0m\u001b[0;34m\u001b[0m\u001b[0;34m\u001b[0m\u001b[0m\n\u001b[1;32m    417\u001b[0m         \u001b[0mX\u001b[0m \u001b[0;34m=\u001b[0m \u001b[0mself\u001b[0m\u001b[0;34m.\u001b[0m\u001b[0m_validate_for_predict\u001b[0m\u001b[0;34m(\u001b[0m\u001b[0mX\u001b[0m\u001b[0;34m)\u001b[0m\u001b[0;34m\u001b[0m\u001b[0;34m\u001b[0m\u001b[0m\n\u001b[0;32m--> 418\u001b[0;31m         \u001b[0mX\u001b[0m \u001b[0;34m=\u001b[0m \u001b[0mself\u001b[0m\u001b[0;34m.\u001b[0m\u001b[0m_compute_kernel\u001b[0m\u001b[0;34m(\u001b[0m\u001b[0mX\u001b[0m\u001b[0;34m)\u001b[0m\u001b[0;34m\u001b[0m\u001b[0;34m\u001b[0m\u001b[0m\n\u001b[0m\u001b[1;32m    419\u001b[0m \u001b[0;34m\u001b[0m\u001b[0m\n\u001b[1;32m    420\u001b[0m         \u001b[0;32mif\u001b[0m \u001b[0mself\u001b[0m\u001b[0;34m.\u001b[0m\u001b[0m_sparse\u001b[0m\u001b[0;34m:\u001b[0m\u001b[0;34m\u001b[0m\u001b[0;34m\u001b[0m\u001b[0m\n",
      "\u001b[0;32m~/Documents/qhack/qhack_env/lib/python3.8/site-packages/sklearn/svm/_base.py\u001b[0m in \u001b[0;36m_compute_kernel\u001b[0;34m(self, X)\u001b[0m\n\u001b[1;32m    394\u001b[0m             \u001b[0;31m# in the case of precomputed kernel given as a function, we\u001b[0m\u001b[0;34m\u001b[0m\u001b[0;34m\u001b[0m\u001b[0;34m\u001b[0m\u001b[0m\n\u001b[1;32m    395\u001b[0m             \u001b[0;31m# have to compute explicitly the kernel matrix\u001b[0m\u001b[0;34m\u001b[0m\u001b[0;34m\u001b[0m\u001b[0;34m\u001b[0m\u001b[0m\n\u001b[0;32m--> 396\u001b[0;31m             \u001b[0mkernel\u001b[0m \u001b[0;34m=\u001b[0m \u001b[0mself\u001b[0m\u001b[0;34m.\u001b[0m\u001b[0mkernel\u001b[0m\u001b[0;34m(\u001b[0m\u001b[0mX\u001b[0m\u001b[0;34m,\u001b[0m \u001b[0mself\u001b[0m\u001b[0;34m.\u001b[0m\u001b[0m__Xfit\u001b[0m\u001b[0;34m)\u001b[0m\u001b[0;34m\u001b[0m\u001b[0;34m\u001b[0m\u001b[0m\n\u001b[0m\u001b[1;32m    397\u001b[0m             \u001b[0;32mif\u001b[0m \u001b[0msp\u001b[0m\u001b[0;34m.\u001b[0m\u001b[0missparse\u001b[0m\u001b[0;34m(\u001b[0m\u001b[0mkernel\u001b[0m\u001b[0;34m)\u001b[0m\u001b[0;34m:\u001b[0m\u001b[0;34m\u001b[0m\u001b[0;34m\u001b[0m\u001b[0m\n\u001b[1;32m    398\u001b[0m                 \u001b[0mkernel\u001b[0m \u001b[0;34m=\u001b[0m \u001b[0mkernel\u001b[0m\u001b[0;34m.\u001b[0m\u001b[0mtoarray\u001b[0m\u001b[0;34m(\u001b[0m\u001b[0;34m)\u001b[0m\u001b[0;34m\u001b[0m\u001b[0;34m\u001b[0m\u001b[0m\n",
      "\u001b[0;32m<ipython-input-15-ba6e8cb2f4da>\u001b[0m in \u001b[0;36m<lambda>\u001b[0;34m(X1, X2)\u001b[0m\n\u001b[1;32m      1\u001b[0m \u001b[0;31m## fit the SVM on the train set\u001b[0m\u001b[0;34m\u001b[0m\u001b[0;34m\u001b[0m\u001b[0;34m\u001b[0m\u001b[0m\n\u001b[0;32m----> 2\u001b[0;31m \u001b[0msvm_trained_kernel\u001b[0m \u001b[0;34m=\u001b[0m \u001b[0mSVC\u001b[0m\u001b[0;34m(\u001b[0m\u001b[0mkernel\u001b[0m\u001b[0;34m=\u001b[0m\u001b[0;32mlambda\u001b[0m \u001b[0mX1\u001b[0m\u001b[0;34m,\u001b[0m \u001b[0mX2\u001b[0m\u001b[0;34m:\u001b[0m \u001b[0mk\u001b[0m\u001b[0;34m.\u001b[0m\u001b[0mkernel_matrix\u001b[0m\u001b[0;34m(\u001b[0m\u001b[0mX1\u001b[0m\u001b[0;34m,\u001b[0m \u001b[0mX2\u001b[0m\u001b[0;34m,\u001b[0m \u001b[0mparams\u001b[0m\u001b[0;34m)\u001b[0m\u001b[0;34m)\u001b[0m\u001b[0;34m.\u001b[0m\u001b[0mfit\u001b[0m\u001b[0;34m(\u001b[0m\u001b[0mX_train\u001b[0m\u001b[0;34m,\u001b[0m \u001b[0my_train\u001b[0m\u001b[0;34m)\u001b[0m\u001b[0;34m\u001b[0m\u001b[0;34m\u001b[0m\u001b[0m\n\u001b[0m\u001b[1;32m      3\u001b[0m \u001b[0mp_train\u001b[0m \u001b[0;34m=\u001b[0m \u001b[0msvm_trained_kernel\u001b[0m\u001b[0;34m.\u001b[0m\u001b[0mpredict\u001b[0m\u001b[0;34m(\u001b[0m\u001b[0mX_train\u001b[0m\u001b[0;34m)\u001b[0m\u001b[0;34m\u001b[0m\u001b[0;34m\u001b[0m\u001b[0m\n\u001b[1;32m      4\u001b[0m \u001b[0mp_test\u001b[0m \u001b[0;34m=\u001b[0m \u001b[0msvm_trained_kernel\u001b[0m\u001b[0;34m.\u001b[0m\u001b[0mpredict\u001b[0m\u001b[0;34m(\u001b[0m\u001b[0mX_test\u001b[0m\u001b[0;34m)\u001b[0m\u001b[0;34m\u001b[0m\u001b[0;34m\u001b[0m\u001b[0m\n\u001b[1;32m      5\u001b[0m \u001b[0;34m\u001b[0m\u001b[0m\n",
      "\u001b[0;32m~/Documents/qhack/qhack_env/lib/python3.8/site-packages/pennylane/kernels/embedding_kernel.py\u001b[0m in \u001b[0;36mkernel_matrix\u001b[0;34m(self, X1, X2, params, **kwargs)\u001b[0m\n\u001b[1;32m     96\u001b[0m             \u001b[0marray\u001b[0m\u001b[0;34m[\u001b[0m\u001b[0mfloat\u001b[0m\u001b[0;34m]\u001b[0m\u001b[0;34m:\u001b[0m \u001b[0mKernel\u001b[0m \u001b[0mmatrix\u001b[0m \u001b[0;32mfor\u001b[0m \u001b[0mthe\u001b[0m \u001b[0mgiven\u001b[0m \u001b[0mdatapoints\u001b[0m\u001b[0;34m\u001b[0m\u001b[0;34m\u001b[0m\u001b[0m\n\u001b[1;32m     97\u001b[0m         \"\"\"\n\u001b[0;32m---> 98\u001b[0;31m         return kernel_matrix(\n\u001b[0m\u001b[1;32m     99\u001b[0m             \u001b[0mX1\u001b[0m\u001b[0;34m,\u001b[0m\u001b[0;34m\u001b[0m\u001b[0;34m\u001b[0m\u001b[0m\n\u001b[1;32m    100\u001b[0m             \u001b[0mX2\u001b[0m\u001b[0;34m,\u001b[0m\u001b[0;34m\u001b[0m\u001b[0;34m\u001b[0m\u001b[0m\n",
      "\u001b[0;32m~/Documents/qhack/qhack_env/lib/python3.8/site-packages/pennylane/kernels/cost_functions.py\u001b[0m in \u001b[0;36mkernel_matrix\u001b[0;34m(X1, X2, kernel)\u001b[0m\n\u001b[1;32m     79\u001b[0m     \u001b[0;32mfor\u001b[0m \u001b[0mi\u001b[0m \u001b[0;32min\u001b[0m \u001b[0mrange\u001b[0m\u001b[0;34m(\u001b[0m\u001b[0mN\u001b[0m\u001b[0;34m)\u001b[0m\u001b[0;34m:\u001b[0m\u001b[0;34m\u001b[0m\u001b[0;34m\u001b[0m\u001b[0m\n\u001b[1;32m     80\u001b[0m         \u001b[0;32mfor\u001b[0m \u001b[0mj\u001b[0m \u001b[0;32min\u001b[0m \u001b[0mrange\u001b[0m\u001b[0;34m(\u001b[0m\u001b[0mM\u001b[0m\u001b[0;34m)\u001b[0m\u001b[0;34m:\u001b[0m\u001b[0;34m\u001b[0m\u001b[0;34m\u001b[0m\u001b[0m\n\u001b[0;32m---> 81\u001b[0;31m             \u001b[0mmatrix\u001b[0m\u001b[0;34m[\u001b[0m\u001b[0mM\u001b[0m \u001b[0;34m*\u001b[0m \u001b[0mi\u001b[0m \u001b[0;34m+\u001b[0m \u001b[0mj\u001b[0m\u001b[0;34m]\u001b[0m \u001b[0;34m=\u001b[0m \u001b[0mkernel\u001b[0m\u001b[0;34m(\u001b[0m\u001b[0mX1\u001b[0m\u001b[0;34m[\u001b[0m\u001b[0mi\u001b[0m\u001b[0;34m]\u001b[0m\u001b[0;34m,\u001b[0m \u001b[0mX2\u001b[0m\u001b[0;34m[\u001b[0m\u001b[0mj\u001b[0m\u001b[0;34m]\u001b[0m\u001b[0;34m)\u001b[0m\u001b[0;34m\u001b[0m\u001b[0;34m\u001b[0m\u001b[0m\n\u001b[0m\u001b[1;32m     82\u001b[0m \u001b[0;34m\u001b[0m\u001b[0m\n\u001b[1;32m     83\u001b[0m     \u001b[0;32mreturn\u001b[0m \u001b[0mnp\u001b[0m\u001b[0;34m.\u001b[0m\u001b[0marray\u001b[0m\u001b[0;34m(\u001b[0m\u001b[0mmatrix\u001b[0m\u001b[0;34m)\u001b[0m\u001b[0;34m.\u001b[0m\u001b[0mreshape\u001b[0m\u001b[0;34m(\u001b[0m\u001b[0;34m(\u001b[0m\u001b[0mN\u001b[0m\u001b[0;34m,\u001b[0m \u001b[0mM\u001b[0m\u001b[0;34m)\u001b[0m\u001b[0;34m)\u001b[0m\u001b[0;34m\u001b[0m\u001b[0;34m\u001b[0m\u001b[0m\n",
      "\u001b[0;32m~/Documents/qhack/qhack_env/lib/python3.8/site-packages/pennylane/kernels/embedding_kernel.py\u001b[0m in \u001b[0;36m<lambda>\u001b[0;34m(x1, x2)\u001b[0m\n\u001b[1;32m     99\u001b[0m             \u001b[0mX1\u001b[0m\u001b[0;34m,\u001b[0m\u001b[0;34m\u001b[0m\u001b[0;34m\u001b[0m\u001b[0m\n\u001b[1;32m    100\u001b[0m             \u001b[0mX2\u001b[0m\u001b[0;34m,\u001b[0m\u001b[0;34m\u001b[0m\u001b[0;34m\u001b[0m\u001b[0m\n\u001b[0;32m--> 101\u001b[0;31m             \u001b[0;32mlambda\u001b[0m \u001b[0mx1\u001b[0m\u001b[0;34m,\u001b[0m \u001b[0mx2\u001b[0m\u001b[0;34m:\u001b[0m \u001b[0mself\u001b[0m\u001b[0;34m(\u001b[0m\u001b[0mx1\u001b[0m\u001b[0;34m,\u001b[0m \u001b[0mx2\u001b[0m\u001b[0;34m,\u001b[0m \u001b[0mparams\u001b[0m\u001b[0;34m,\u001b[0m \u001b[0;34m**\u001b[0m\u001b[0mkwargs\u001b[0m\u001b[0;34m)\u001b[0m\u001b[0;34m,\u001b[0m\u001b[0;34m\u001b[0m\u001b[0;34m\u001b[0m\u001b[0m\n\u001b[0m\u001b[1;32m    102\u001b[0m         )\n\u001b[1;32m    103\u001b[0m \u001b[0;34m\u001b[0m\u001b[0m\n",
      "\u001b[0;32m~/Documents/qhack/qhack_env/lib/python3.8/site-packages/pennylane/kernels/embedding_kernel.py\u001b[0m in \u001b[0;36m__call__\u001b[0;34m(self, x1, x2, params, **kwargs)\u001b[0m\n\u001b[1;32m     83\u001b[0m         \"\"\"\n\u001b[1;32m     84\u001b[0m \u001b[0;34m\u001b[0m\u001b[0m\n\u001b[0;32m---> 85\u001b[0;31m         \u001b[0;32mreturn\u001b[0m \u001b[0mself\u001b[0m\u001b[0;34m.\u001b[0m\u001b[0mprobs_qnode\u001b[0m\u001b[0;34m(\u001b[0m\u001b[0mx1\u001b[0m\u001b[0;34m,\u001b[0m \u001b[0mx2\u001b[0m\u001b[0;34m,\u001b[0m \u001b[0mparams\u001b[0m\u001b[0;34m,\u001b[0m \u001b[0;34m**\u001b[0m\u001b[0mkwargs\u001b[0m\u001b[0;34m)\u001b[0m\u001b[0;34m[\u001b[0m\u001b[0;36m0\u001b[0m\u001b[0;34m]\u001b[0m\u001b[0;34m\u001b[0m\u001b[0;34m\u001b[0m\u001b[0m\n\u001b[0m\u001b[1;32m     86\u001b[0m \u001b[0;34m\u001b[0m\u001b[0m\n\u001b[1;32m     87\u001b[0m     \u001b[0;32mdef\u001b[0m \u001b[0mkernel_matrix\u001b[0m\u001b[0;34m(\u001b[0m\u001b[0mself\u001b[0m\u001b[0;34m,\u001b[0m \u001b[0mX1\u001b[0m\u001b[0;34m,\u001b[0m \u001b[0mX2\u001b[0m\u001b[0;34m,\u001b[0m \u001b[0mparams\u001b[0m\u001b[0;34m,\u001b[0m \u001b[0;34m**\u001b[0m\u001b[0mkwargs\u001b[0m\u001b[0;34m)\u001b[0m\u001b[0;34m:\u001b[0m\u001b[0;34m\u001b[0m\u001b[0;34m\u001b[0m\u001b[0m\n",
      "\u001b[0;32m~/Documents/qhack/qhack_env/lib/python3.8/site-packages/pennylane/qnode.py\u001b[0m in \u001b[0;36m__call__\u001b[0;34m(self, *args, **kwargs)\u001b[0m\n\u001b[1;32m    550\u001b[0m         \u001b[0;32mif\u001b[0m \u001b[0mself\u001b[0m\u001b[0;34m.\u001b[0m\u001b[0mmutable\u001b[0m \u001b[0;32mor\u001b[0m \u001b[0mself\u001b[0m\u001b[0;34m.\u001b[0m\u001b[0mqtape\u001b[0m \u001b[0;32mis\u001b[0m \u001b[0;32mNone\u001b[0m\u001b[0;34m:\u001b[0m\u001b[0;34m\u001b[0m\u001b[0;34m\u001b[0m\u001b[0m\n\u001b[1;32m    551\u001b[0m             \u001b[0;31m# construct the tape\u001b[0m\u001b[0;34m\u001b[0m\u001b[0;34m\u001b[0m\u001b[0;34m\u001b[0m\u001b[0m\n\u001b[0;32m--> 552\u001b[0;31m             \u001b[0mself\u001b[0m\u001b[0;34m.\u001b[0m\u001b[0mconstruct\u001b[0m\u001b[0;34m(\u001b[0m\u001b[0margs\u001b[0m\u001b[0;34m,\u001b[0m \u001b[0mkwargs\u001b[0m\u001b[0;34m)\u001b[0m\u001b[0;34m\u001b[0m\u001b[0;34m\u001b[0m\u001b[0m\n\u001b[0m\u001b[1;32m    553\u001b[0m \u001b[0;34m\u001b[0m\u001b[0m\n\u001b[1;32m    554\u001b[0m         \u001b[0;31m# execute the tape\u001b[0m\u001b[0;34m\u001b[0m\u001b[0;34m\u001b[0m\u001b[0;34m\u001b[0m\u001b[0m\n",
      "\u001b[0;32m~/Documents/qhack/qhack_env/lib/python3.8/site-packages/pennylane/qnode.py\u001b[0m in \u001b[0;36mconstruct\u001b[0;34m(self, args, kwargs)\u001b[0m\n\u001b[1;32m    479\u001b[0m \u001b[0;34m\u001b[0m\u001b[0m\n\u001b[1;32m    480\u001b[0m         \u001b[0;32mwith\u001b[0m \u001b[0mself\u001b[0m\u001b[0;34m.\u001b[0m\u001b[0mqtape\u001b[0m\u001b[0;34m:\u001b[0m\u001b[0;34m\u001b[0m\u001b[0;34m\u001b[0m\u001b[0m\n\u001b[0;32m--> 481\u001b[0;31m             \u001b[0mself\u001b[0m\u001b[0;34m.\u001b[0m\u001b[0mqfunc_output\u001b[0m \u001b[0;34m=\u001b[0m \u001b[0mself\u001b[0m\u001b[0;34m.\u001b[0m\u001b[0mfunc\u001b[0m\u001b[0;34m(\u001b[0m\u001b[0;34m*\u001b[0m\u001b[0margs\u001b[0m\u001b[0;34m,\u001b[0m \u001b[0;34m**\u001b[0m\u001b[0mkwargs\u001b[0m\u001b[0;34m)\u001b[0m\u001b[0;34m\u001b[0m\u001b[0;34m\u001b[0m\u001b[0m\n\u001b[0m\u001b[1;32m    482\u001b[0m \u001b[0;34m\u001b[0m\u001b[0m\n\u001b[1;32m    483\u001b[0m         \u001b[0;32mif\u001b[0m \u001b[0;32mnot\u001b[0m \u001b[0misinstance\u001b[0m\u001b[0;34m(\u001b[0m\u001b[0mself\u001b[0m\u001b[0;34m.\u001b[0m\u001b[0mqfunc_output\u001b[0m\u001b[0;34m,\u001b[0m \u001b[0mSequence\u001b[0m\u001b[0;34m)\u001b[0m\u001b[0;34m:\u001b[0m\u001b[0;34m\u001b[0m\u001b[0;34m\u001b[0m\u001b[0m\n",
      "\u001b[0;32m~/Documents/qhack/qhack_env/lib/python3.8/site-packages/pennylane/kernels/embedding_kernel.py\u001b[0m in \u001b[0;36mcircuit\u001b[0;34m(x1, x2, params, **kwargs)\u001b[0m\n\u001b[1;32m     60\u001b[0m \u001b[0;34m\u001b[0m\u001b[0m\n\u001b[1;32m     61\u001b[0m         \u001b[0;32mdef\u001b[0m \u001b[0mcircuit\u001b[0m\u001b[0;34m(\u001b[0m\u001b[0mx1\u001b[0m\u001b[0;34m,\u001b[0m \u001b[0mx2\u001b[0m\u001b[0;34m,\u001b[0m \u001b[0mparams\u001b[0m\u001b[0;34m,\u001b[0m \u001b[0;34m**\u001b[0m\u001b[0mkwargs\u001b[0m\u001b[0;34m)\u001b[0m\u001b[0;34m:\u001b[0m\u001b[0;34m\u001b[0m\u001b[0;34m\u001b[0m\u001b[0m\n\u001b[0;32m---> 62\u001b[0;31m             \u001b[0mansatz\u001b[0m\u001b[0;34m(\u001b[0m\u001b[0mx1\u001b[0m\u001b[0;34m,\u001b[0m \u001b[0mparams\u001b[0m\u001b[0;34m,\u001b[0m \u001b[0;34m**\u001b[0m\u001b[0mkwargs\u001b[0m\u001b[0;34m)\u001b[0m\u001b[0;34m\u001b[0m\u001b[0;34m\u001b[0m\u001b[0m\n\u001b[0m\u001b[1;32m     63\u001b[0m             \u001b[0mqml\u001b[0m\u001b[0;34m.\u001b[0m\u001b[0minv\u001b[0m\u001b[0;34m(\u001b[0m\u001b[0mansatz\u001b[0m\u001b[0;34m(\u001b[0m\u001b[0mx2\u001b[0m\u001b[0;34m,\u001b[0m \u001b[0mparams\u001b[0m\u001b[0;34m,\u001b[0m \u001b[0;34m**\u001b[0m\u001b[0mkwargs\u001b[0m\u001b[0;34m)\u001b[0m\u001b[0;34m)\u001b[0m\u001b[0;34m\u001b[0m\u001b[0;34m\u001b[0m\u001b[0m\n\u001b[1;32m     64\u001b[0m \u001b[0;34m\u001b[0m\u001b[0m\n",
      "\u001b[0;32m<ipython-input-5-b776cc1d08e0>\u001b[0m in \u001b[0;36m<lambda>\u001b[0;34m(x, params)\u001b[0m\n\u001b[1;32m      4\u001b[0m \u001b[0;34m\u001b[0m\u001b[0m\n\u001b[1;32m      5\u001b[0m \u001b[0;31m# init the embedding kernel\u001b[0m\u001b[0;34m\u001b[0m\u001b[0;34m\u001b[0m\u001b[0;34m\u001b[0m\u001b[0m\n\u001b[0;32m----> 6\u001b[0;31m \u001b[0mk\u001b[0m \u001b[0;34m=\u001b[0m \u001b[0mqml\u001b[0m\u001b[0;34m.\u001b[0m\u001b[0mkernels\u001b[0m\u001b[0;34m.\u001b[0m\u001b[0mEmbeddingKernel\u001b[0m\u001b[0;34m(\u001b[0m\u001b[0;32mlambda\u001b[0m \u001b[0mx\u001b[0m\u001b[0;34m,\u001b[0m \u001b[0mparams\u001b[0m\u001b[0;34m:\u001b[0m \u001b[0mansatz\u001b[0m\u001b[0;34m(\u001b[0m\u001b[0mx\u001b[0m\u001b[0;34m,\u001b[0m \u001b[0mparams\u001b[0m\u001b[0;34m,\u001b[0m \u001b[0mwires\u001b[0m\u001b[0;34m)\u001b[0m\u001b[0;34m,\u001b[0m \u001b[0mdev\u001b[0m\u001b[0;34m)\u001b[0m\u001b[0;34m\u001b[0m\u001b[0;34m\u001b[0m\u001b[0m\n\u001b[0m",
      "\u001b[0;32m~/Documents/qhack/qhack_env/lib/python3.8/site-packages/pennylane/templates/decorator.py\u001b[0m in \u001b[0;36mwrapper\u001b[0;34m(*args, **kwargs)\u001b[0m\n\u001b[1;32m     59\u001b[0m \u001b[0;34m\u001b[0m\u001b[0m\n\u001b[1;32m     60\u001b[0m         \u001b[0;32mwith\u001b[0m \u001b[0mqml\u001b[0m\u001b[0;34m.\u001b[0m\u001b[0mtape\u001b[0m\u001b[0;34m.\u001b[0m\u001b[0mOperationRecorder\u001b[0m\u001b[0;34m(\u001b[0m\u001b[0;34m)\u001b[0m \u001b[0;32mas\u001b[0m \u001b[0mrec\u001b[0m\u001b[0;34m:\u001b[0m\u001b[0;34m\u001b[0m\u001b[0;34m\u001b[0m\u001b[0m\n\u001b[0;32m---> 61\u001b[0;31m             \u001b[0mfunc\u001b[0m\u001b[0;34m(\u001b[0m\u001b[0;34m*\u001b[0m\u001b[0margs\u001b[0m\u001b[0;34m,\u001b[0m \u001b[0;34m**\u001b[0m\u001b[0mkwargs\u001b[0m\u001b[0;34m)\u001b[0m\u001b[0;34m\u001b[0m\u001b[0;34m\u001b[0m\u001b[0m\n\u001b[0m\u001b[1;32m     62\u001b[0m \u001b[0;34m\u001b[0m\u001b[0m\n\u001b[1;32m     63\u001b[0m         \u001b[0;32mreturn\u001b[0m \u001b[0mrec\u001b[0m\u001b[0;34m.\u001b[0m\u001b[0mqueue\u001b[0m\u001b[0;34m\u001b[0m\u001b[0;34m\u001b[0m\u001b[0m\n",
      "\u001b[0;32m~/Documents/qhack/qhack_env/lib/python3.8/site-packages/pennylane/tape/tape.py\u001b[0m in \u001b[0;36m__exit__\u001b[0;34m(self, exception_type, exception_value, traceback)\u001b[0m\n\u001b[1;32m    331\u001b[0m         \u001b[0;32mtry\u001b[0m\u001b[0;34m:\u001b[0m\u001b[0;34m\u001b[0m\u001b[0;34m\u001b[0m\u001b[0m\n\u001b[1;32m    332\u001b[0m             \u001b[0msuper\u001b[0m\u001b[0;34m(\u001b[0m\u001b[0;34m)\u001b[0m\u001b[0;34m.\u001b[0m\u001b[0m__exit__\u001b[0m\u001b[0;34m(\u001b[0m\u001b[0mexception_type\u001b[0m\u001b[0;34m,\u001b[0m \u001b[0mexception_value\u001b[0m\u001b[0;34m,\u001b[0m \u001b[0mtraceback\u001b[0m\u001b[0;34m)\u001b[0m\u001b[0;34m\u001b[0m\u001b[0;34m\u001b[0m\u001b[0m\n\u001b[0;32m--> 333\u001b[0;31m             \u001b[0mself\u001b[0m\u001b[0;34m.\u001b[0m\u001b[0m_process_queue\u001b[0m\u001b[0;34m(\u001b[0m\u001b[0;34m)\u001b[0m\u001b[0;34m\u001b[0m\u001b[0;34m\u001b[0m\u001b[0m\n\u001b[0m\u001b[1;32m    334\u001b[0m         \u001b[0;32mfinally\u001b[0m\u001b[0;34m:\u001b[0m\u001b[0;34m\u001b[0m\u001b[0;34m\u001b[0m\u001b[0m\n\u001b[1;32m    335\u001b[0m             \u001b[0mQuantumTape\u001b[0m\u001b[0;34m.\u001b[0m\u001b[0m_lock\u001b[0m\u001b[0;34m.\u001b[0m\u001b[0mrelease\u001b[0m\u001b[0;34m(\u001b[0m\u001b[0;34m)\u001b[0m\u001b[0;34m\u001b[0m\u001b[0;34m\u001b[0m\u001b[0m\n",
      "\u001b[0;32m~/Documents/qhack/qhack_env/lib/python3.8/site-packages/pennylane/tape/operation_recorder.py\u001b[0m in \u001b[0;36m_process_queue\u001b[0;34m(self)\u001b[0m\n\u001b[1;32m     72\u001b[0m         \u001b[0mQueuingContext\u001b[0m\u001b[0;34m.\u001b[0m\u001b[0mremove\u001b[0m\u001b[0;34m(\u001b[0m\u001b[0mself\u001b[0m\u001b[0;34m)\u001b[0m\u001b[0;34m\u001b[0m\u001b[0;34m\u001b[0m\u001b[0m\n\u001b[1;32m     73\u001b[0m \u001b[0;34m\u001b[0m\u001b[0m\n\u001b[0;32m---> 74\u001b[0;31m         \u001b[0mnew_tape\u001b[0m \u001b[0;34m=\u001b[0m \u001b[0mself\u001b[0m\u001b[0;34m.\u001b[0m\u001b[0mexpand\u001b[0m\u001b[0;34m(\u001b[0m\u001b[0mdepth\u001b[0m\u001b[0;34m=\u001b[0m\u001b[0;36m5\u001b[0m\u001b[0;34m,\u001b[0m \u001b[0mstop_at\u001b[0m\u001b[0;34m=\u001b[0m\u001b[0;32mlambda\u001b[0m \u001b[0mobj\u001b[0m\u001b[0;34m:\u001b[0m \u001b[0;32mnot\u001b[0m \u001b[0misinstance\u001b[0m\u001b[0;34m(\u001b[0m\u001b[0mobj\u001b[0m\u001b[0;34m,\u001b[0m \u001b[0mQuantumTape\u001b[0m\u001b[0;34m)\u001b[0m\u001b[0;34m)\u001b[0m\u001b[0;34m\u001b[0m\u001b[0;34m\u001b[0m\u001b[0m\n\u001b[0m\u001b[1;32m     75\u001b[0m         \u001b[0mself\u001b[0m\u001b[0;34m.\u001b[0m\u001b[0mops\u001b[0m \u001b[0;34m=\u001b[0m \u001b[0mnew_tape\u001b[0m\u001b[0;34m.\u001b[0m\u001b[0moperations\u001b[0m\u001b[0;34m\u001b[0m\u001b[0;34m\u001b[0m\u001b[0m\n\u001b[1;32m     76\u001b[0m         \u001b[0mself\u001b[0m\u001b[0;34m.\u001b[0m\u001b[0mobs\u001b[0m \u001b[0;34m=\u001b[0m \u001b[0mnew_tape\u001b[0m\u001b[0;34m.\u001b[0m\u001b[0mobservables\u001b[0m\u001b[0;34m\u001b[0m\u001b[0;34m\u001b[0m\u001b[0m\n",
      "\u001b[0;32m~/Documents/qhack/qhack_env/lib/python3.8/site-packages/pennylane/tape/tape.py\u001b[0m in \u001b[0;36mexpand\u001b[0;34m(self, depth, stop_at, expand_measurements)\u001b[0m\n\u001b[1;32m    513\u001b[0m             \u001b[0mself\u001b[0m\u001b[0;34m,\u001b[0m \u001b[0mdepth\u001b[0m\u001b[0;34m=\u001b[0m\u001b[0mdepth\u001b[0m\u001b[0;34m,\u001b[0m \u001b[0mstop_at\u001b[0m\u001b[0;34m=\u001b[0m\u001b[0mstop_at\u001b[0m\u001b[0;34m,\u001b[0m \u001b[0mexpand_measurements\u001b[0m\u001b[0;34m=\u001b[0m\u001b[0mexpand_measurements\u001b[0m\u001b[0;34m\u001b[0m\u001b[0;34m\u001b[0m\u001b[0m\n\u001b[1;32m    514\u001b[0m         )\n\u001b[0;32m--> 515\u001b[0;31m         \u001b[0mnew_tape\u001b[0m\u001b[0;34m.\u001b[0m\u001b[0m_update\u001b[0m\u001b[0;34m(\u001b[0m\u001b[0;34m)\u001b[0m\u001b[0;34m\u001b[0m\u001b[0;34m\u001b[0m\u001b[0m\n\u001b[0m\u001b[1;32m    516\u001b[0m         \u001b[0;32mreturn\u001b[0m \u001b[0mnew_tape\u001b[0m\u001b[0;34m\u001b[0m\u001b[0;34m\u001b[0m\u001b[0m\n\u001b[1;32m    517\u001b[0m \u001b[0;34m\u001b[0m\u001b[0m\n",
      "\u001b[0;32m~/Documents/qhack/qhack_env/lib/python3.8/site-packages/pennylane/tape/tape.py\u001b[0m in \u001b[0;36m_update\u001b[0;34m(self)\u001b[0m\n\u001b[1;32m    459\u001b[0m         \u001b[0mself\u001b[0m\u001b[0;34m.\u001b[0m\u001b[0m_resources\u001b[0m \u001b[0;34m=\u001b[0m \u001b[0;32mNone\u001b[0m\u001b[0;34m\u001b[0m\u001b[0;34m\u001b[0m\u001b[0m\n\u001b[1;32m    460\u001b[0m         \u001b[0mself\u001b[0m\u001b[0;34m.\u001b[0m\u001b[0m_depth\u001b[0m \u001b[0;34m=\u001b[0m \u001b[0;32mNone\u001b[0m\u001b[0;34m\u001b[0m\u001b[0;34m\u001b[0m\u001b[0m\n\u001b[0;32m--> 461\u001b[0;31m         \u001b[0mself\u001b[0m\u001b[0;34m.\u001b[0m\u001b[0m_update_circuit_info\u001b[0m\u001b[0;34m(\u001b[0m\u001b[0;34m)\u001b[0m\u001b[0;34m\u001b[0m\u001b[0;34m\u001b[0m\u001b[0m\n\u001b[0m\u001b[1;32m    462\u001b[0m         \u001b[0mself\u001b[0m\u001b[0;34m.\u001b[0m\u001b[0m_update_par_info\u001b[0m\u001b[0;34m(\u001b[0m\u001b[0;34m)\u001b[0m\u001b[0;34m\u001b[0m\u001b[0;34m\u001b[0m\u001b[0m\n\u001b[1;32m    463\u001b[0m         \u001b[0mself\u001b[0m\u001b[0;34m.\u001b[0m\u001b[0m_update_trainable_params\u001b[0m\u001b[0;34m(\u001b[0m\u001b[0;34m)\u001b[0m\u001b[0;34m\u001b[0m\u001b[0;34m\u001b[0m\u001b[0m\n",
      "\u001b[0;32m~/Documents/qhack/qhack_env/lib/python3.8/site-packages/pennylane/tape/tape.py\u001b[0m in \u001b[0;36m_update_circuit_info\u001b[0;34m(self)\u001b[0m\n\u001b[1;32m    411\u001b[0m     \u001b[0;32mdef\u001b[0m \u001b[0m_update_circuit_info\u001b[0m\u001b[0;34m(\u001b[0m\u001b[0mself\u001b[0m\u001b[0;34m)\u001b[0m\u001b[0;34m:\u001b[0m\u001b[0;34m\u001b[0m\u001b[0;34m\u001b[0m\u001b[0m\n\u001b[1;32m    412\u001b[0m         \u001b[0;34m\"\"\"Update circuit metadata\"\"\"\u001b[0m\u001b[0;34m\u001b[0m\u001b[0;34m\u001b[0m\u001b[0m\n\u001b[0;32m--> 413\u001b[0;31m         self.wires = qml.wires.Wires.all_wires(\n\u001b[0m\u001b[1;32m    414\u001b[0m             \u001b[0;34m[\u001b[0m\u001b[0mop\u001b[0m\u001b[0;34m.\u001b[0m\u001b[0mwires\u001b[0m \u001b[0;32mfor\u001b[0m \u001b[0mop\u001b[0m \u001b[0;32min\u001b[0m \u001b[0mself\u001b[0m\u001b[0;34m.\u001b[0m\u001b[0moperations\u001b[0m \u001b[0;34m+\u001b[0m \u001b[0mself\u001b[0m\u001b[0;34m.\u001b[0m\u001b[0mobservables\u001b[0m\u001b[0;34m]\u001b[0m\u001b[0;34m\u001b[0m\u001b[0;34m\u001b[0m\u001b[0m\n\u001b[1;32m    415\u001b[0m         )\n",
      "\u001b[0;32m~/Documents/qhack/qhack_env/lib/python3.8/site-packages/pennylane/wires.py\u001b[0m in \u001b[0;36mall_wires\u001b[0;34m(list_of_wires, sort)\u001b[0m\n\u001b[1;32m    425\u001b[0m \u001b[0;34m\u001b[0m\u001b[0m\n\u001b[1;32m    426\u001b[0m             \u001b[0mextension\u001b[0m \u001b[0;34m=\u001b[0m \u001b[0;34m[\u001b[0m\u001b[0mlabel\u001b[0m \u001b[0;32mfor\u001b[0m \u001b[0mlabel\u001b[0m \u001b[0;32min\u001b[0m \u001b[0mwires\u001b[0m\u001b[0;34m.\u001b[0m\u001b[0mlabels\u001b[0m \u001b[0;32mif\u001b[0m \u001b[0mlabel\u001b[0m \u001b[0;32mnot\u001b[0m \u001b[0;32min\u001b[0m \u001b[0mseen_labels\u001b[0m\u001b[0;34m]\u001b[0m\u001b[0;34m\u001b[0m\u001b[0;34m\u001b[0m\u001b[0m\n\u001b[0;32m--> 427\u001b[0;31m             \u001b[0mcombined\u001b[0m\u001b[0;34m.\u001b[0m\u001b[0mextend\u001b[0m\u001b[0;34m(\u001b[0m\u001b[0mextension\u001b[0m\u001b[0;34m)\u001b[0m\u001b[0;34m\u001b[0m\u001b[0;34m\u001b[0m\u001b[0m\n\u001b[0m\u001b[1;32m    428\u001b[0m             \u001b[0mseen_labels\u001b[0m\u001b[0;34m.\u001b[0m\u001b[0mupdate\u001b[0m\u001b[0;34m(\u001b[0m\u001b[0mextension\u001b[0m\u001b[0;34m)\u001b[0m\u001b[0;34m\u001b[0m\u001b[0;34m\u001b[0m\u001b[0m\n\u001b[1;32m    429\u001b[0m \u001b[0;34m\u001b[0m\u001b[0m\n",
      "\u001b[0;31mKeyboardInterrupt\u001b[0m: "
     ]
    }
   ],
   "source": [
    "y_dummy = svm_trained_kernel.decision_function(X_dummy)"
   ]
  },
  {
   "cell_type": "code",
   "execution_count": 18,
   "id": "acknowledged-delicious",
   "metadata": {},
   "outputs": [
    {
     "ename": "NameError",
     "evalue": "name 'y_dummy' is not defined",
     "output_type": "error",
     "traceback": [
      "\u001b[0;31m---------------------------------------------------------------------------\u001b[0m",
      "\u001b[0;31mNameError\u001b[0m                                 Traceback (most recent call last)",
      "\u001b[0;32m<ipython-input-18-7ae61084e863>\u001b[0m in \u001b[0;36m<module>\u001b[0;34m\u001b[0m\n\u001b[1;32m      1\u001b[0m \u001b[0mX_dummy\u001b[0m \u001b[0;34m=\u001b[0m \u001b[0mnp\u001b[0m\u001b[0;34m.\u001b[0m\u001b[0masarray\u001b[0m\u001b[0;34m(\u001b[0m\u001b[0mX_dummy\u001b[0m\u001b[0;34m)\u001b[0m\u001b[0;34m\u001b[0m\u001b[0;34m\u001b[0m\u001b[0m\n\u001b[0;32m----> 2\u001b[0;31m \u001b[0my_dummy\u001b[0m \u001b[0;34m=\u001b[0m \u001b[0mnp\u001b[0m\u001b[0;34m.\u001b[0m\u001b[0masarray\u001b[0m\u001b[0;34m(\u001b[0m\u001b[0my_dummy\u001b[0m\u001b[0;34m)\u001b[0m\u001b[0;34m\u001b[0m\u001b[0;34m\u001b[0m\u001b[0m\n\u001b[0m",
      "\u001b[0;31mNameError\u001b[0m: name 'y_dummy' is not defined"
     ]
    }
   ],
   "source": [
    "X_dummy = np.asarray(X_dummy)\n",
    "y_dummy = np.asarray(y_dummy)"
   ]
  },
  {
   "cell_type": "code",
   "execution_count": 43,
   "id": "graphic-tribe",
   "metadata": {
    "lines_to_next_cell": 0
   },
   "outputs": [
    {
     "name": "stdout",
     "output_type": "stream",
     "text": [
      "[[-2.0, -1.0], [-2.0, -0.9], [-2.0, -0.8], [-2.0, -0.7], [-2.0, -0.6], [-2.0, -0.5], [-2.0, -0.3999999999999999], [-2.0, -0.29999999999999993], [-2.0, -0.19999999999999996], [-2.0, -0.09999999999999998], [-2.0, 0.0], [-2.0, 0.10000000000000009], [-2.0, 0.20000000000000018], [-2.0, 0.30000000000000004], [-2.0, 0.40000000000000013], [-2.0, 0.5], [-2.0, 0.6000000000000001], [-2.0, 0.7000000000000002], [-2.0, 0.8], [-2.0, 0.9000000000000001], [-1.8, -1.0], [-1.8, -0.9], [-1.8, -0.8], [-1.8, -0.7], [-1.8, -0.6], [-1.8, -0.5], [-1.8, -0.3999999999999999], [-1.8, -0.29999999999999993], [-1.8, -0.19999999999999996], [-1.8, -0.09999999999999998], [-1.8, 0.0], [-1.8, 0.10000000000000009], [-1.8, 0.20000000000000018], [-1.8, 0.30000000000000004], [-1.8, 0.40000000000000013], [-1.8, 0.5], [-1.8, 0.6000000000000001], [-1.8, 0.7000000000000002], [-1.8, 0.8], [-1.8, 0.9000000000000001], [-1.6, -1.0], [-1.6, -0.9], [-1.6, -0.8], [-1.6, -0.7], [-1.6, -0.6], [-1.6, -0.5], [-1.6, -0.3999999999999999], [-1.6, -0.29999999999999993], [-1.6, -0.19999999999999996], [-1.6, -0.09999999999999998], [-1.6, 0.0], [-1.6, 0.10000000000000009], [-1.6, 0.20000000000000018], [-1.6, 0.30000000000000004], [-1.6, 0.40000000000000013], [-1.6, 0.5], [-1.6, 0.6000000000000001], [-1.6, 0.7000000000000002], [-1.6, 0.8], [-1.6, 0.9000000000000001], [-1.4, -1.0], [-1.4, -0.9], [-1.4, -0.8], [-1.4, -0.7], [-1.4, -0.6], [-1.4, -0.5], [-1.4, -0.3999999999999999], [-1.4, -0.29999999999999993], [-1.4, -0.19999999999999996], [-1.4, -0.09999999999999998], [-1.4, 0.0], [-1.4, 0.10000000000000009], [-1.4, 0.20000000000000018], [-1.4, 0.30000000000000004], [-1.4, 0.40000000000000013], [-1.4, 0.5], [-1.4, 0.6000000000000001], [-1.4, 0.7000000000000002], [-1.4, 0.8], [-1.4, 0.9000000000000001], [-1.2, -1.0], [-1.2, -0.9], [-1.2, -0.8], [-1.2, -0.7], [-1.2, -0.6], [-1.2, -0.5], [-1.2, -0.3999999999999999], [-1.2, -0.29999999999999993], [-1.2, -0.19999999999999996], [-1.2, -0.09999999999999998], [-1.2, 0.0], [-1.2, 0.10000000000000009], [-1.2, 0.20000000000000018], [-1.2, 0.30000000000000004], [-1.2, 0.40000000000000013], [-1.2, 0.5], [-1.2, 0.6000000000000001], [-1.2, 0.7000000000000002], [-1.2, 0.8], [-1.2, 0.9000000000000001], [-1.0, -1.0], [-1.0, -0.9], [-1.0, -0.8], [-1.0, -0.7], [-1.0, -0.6], [-1.0, -0.5], [-1.0, -0.3999999999999999], [-1.0, -0.29999999999999993], [-1.0, -0.19999999999999996], [-1.0, -0.09999999999999998], [-1.0, 0.0], [-1.0, 0.10000000000000009], [-1.0, 0.20000000000000018], [-1.0, 0.30000000000000004], [-1.0, 0.40000000000000013], [-1.0, 0.5], [-1.0, 0.6000000000000001], [-1.0, 0.7000000000000002], [-1.0, 0.8], [-1.0, 0.9000000000000001], [-0.7999999999999998, -1.0], [-0.7999999999999998, -0.9], [-0.7999999999999998, -0.8], [-0.7999999999999998, -0.7], [-0.7999999999999998, -0.6], [-0.7999999999999998, -0.5], [-0.7999999999999998, -0.3999999999999999], [-0.7999999999999998, -0.29999999999999993], [-0.7999999999999998, -0.19999999999999996], [-0.7999999999999998, -0.09999999999999998], [-0.7999999999999998, 0.0], [-0.7999999999999998, 0.10000000000000009], [-0.7999999999999998, 0.20000000000000018], [-0.7999999999999998, 0.30000000000000004], [-0.7999999999999998, 0.40000000000000013], [-0.7999999999999998, 0.5], [-0.7999999999999998, 0.6000000000000001], [-0.7999999999999998, 0.7000000000000002], [-0.7999999999999998, 0.8], [-0.7999999999999998, 0.9000000000000001], [-0.5999999999999999, -1.0], [-0.5999999999999999, -0.9], [-0.5999999999999999, -0.8], [-0.5999999999999999, -0.7], [-0.5999999999999999, -0.6], [-0.5999999999999999, -0.5], [-0.5999999999999999, -0.3999999999999999], [-0.5999999999999999, -0.29999999999999993], [-0.5999999999999999, -0.19999999999999996], [-0.5999999999999999, -0.09999999999999998], [-0.5999999999999999, 0.0], [-0.5999999999999999, 0.10000000000000009], [-0.5999999999999999, 0.20000000000000018], [-0.5999999999999999, 0.30000000000000004], [-0.5999999999999999, 0.40000000000000013], [-0.5999999999999999, 0.5], [-0.5999999999999999, 0.6000000000000001], [-0.5999999999999999, 0.7000000000000002], [-0.5999999999999999, 0.8], [-0.5999999999999999, 0.9000000000000001], [-0.3999999999999999, -1.0], [-0.3999999999999999, -0.9], [-0.3999999999999999, -0.8], [-0.3999999999999999, -0.7], [-0.3999999999999999, -0.6], [-0.3999999999999999, -0.5], [-0.3999999999999999, -0.3999999999999999], [-0.3999999999999999, -0.29999999999999993], [-0.3999999999999999, -0.19999999999999996], [-0.3999999999999999, -0.09999999999999998], [-0.3999999999999999, 0.0], [-0.3999999999999999, 0.10000000000000009], [-0.3999999999999999, 0.20000000000000018], [-0.3999999999999999, 0.30000000000000004], [-0.3999999999999999, 0.40000000000000013], [-0.3999999999999999, 0.5], [-0.3999999999999999, 0.6000000000000001], [-0.3999999999999999, 0.7000000000000002], [-0.3999999999999999, 0.8], [-0.3999999999999999, 0.9000000000000001], [-0.19999999999999996, -1.0], [-0.19999999999999996, -0.9], [-0.19999999999999996, -0.8], [-0.19999999999999996, -0.7], [-0.19999999999999996, -0.6], [-0.19999999999999996, -0.5], [-0.19999999999999996, -0.3999999999999999], [-0.19999999999999996, -0.29999999999999993], [-0.19999999999999996, -0.19999999999999996], [-0.19999999999999996, -0.09999999999999998], [-0.19999999999999996, 0.0], [-0.19999999999999996, 0.10000000000000009], [-0.19999999999999996, 0.20000000000000018], [-0.19999999999999996, 0.30000000000000004], [-0.19999999999999996, 0.40000000000000013], [-0.19999999999999996, 0.5], [-0.19999999999999996, 0.6000000000000001], [-0.19999999999999996, 0.7000000000000002], [-0.19999999999999996, 0.8], [-0.19999999999999996, 0.9000000000000001], [0.0, -1.0], [0.0, -0.9], [0.0, -0.8], [0.0, -0.7], [0.0, -0.6], [0.0, -0.5], [0.0, -0.3999999999999999], [0.0, -0.29999999999999993], [0.0, -0.19999999999999996], [0.0, -0.09999999999999998], [0.0, 0.0], [0.0, 0.10000000000000009], [0.0, 0.20000000000000018], [0.0, 0.30000000000000004], [0.0, 0.40000000000000013], [0.0, 0.5], [0.0, 0.6000000000000001], [0.0, 0.7000000000000002], [0.0, 0.8], [0.0, 0.9000000000000001], [0.20000000000000018, -1.0], [0.20000000000000018, -0.9], [0.20000000000000018, -0.8], [0.20000000000000018, -0.7], [0.20000000000000018, -0.6], [0.20000000000000018, -0.5], [0.20000000000000018, -0.3999999999999999], [0.20000000000000018, -0.29999999999999993], [0.20000000000000018, -0.19999999999999996], [0.20000000000000018, -0.09999999999999998], [0.20000000000000018, 0.0], [0.20000000000000018, 0.10000000000000009], [0.20000000000000018, 0.20000000000000018], [0.20000000000000018, 0.30000000000000004], [0.20000000000000018, 0.40000000000000013], [0.20000000000000018, 0.5], [0.20000000000000018, 0.6000000000000001], [0.20000000000000018, 0.7000000000000002], [0.20000000000000018, 0.8], [0.20000000000000018, 0.9000000000000001], [0.40000000000000036, -1.0], [0.40000000000000036, -0.9], [0.40000000000000036, -0.8], [0.40000000000000036, -0.7], [0.40000000000000036, -0.6], [0.40000000000000036, -0.5], [0.40000000000000036, -0.3999999999999999], [0.40000000000000036, -0.29999999999999993], [0.40000000000000036, -0.19999999999999996], [0.40000000000000036, -0.09999999999999998], [0.40000000000000036, 0.0], [0.40000000000000036, 0.10000000000000009], [0.40000000000000036, 0.20000000000000018], [0.40000000000000036, 0.30000000000000004], [0.40000000000000036, 0.40000000000000013], [0.40000000000000036, 0.5], [0.40000000000000036, 0.6000000000000001], [0.40000000000000036, 0.7000000000000002], [0.40000000000000036, 0.8], [0.40000000000000036, 0.9000000000000001], [0.6000000000000001, -1.0], [0.6000000000000001, -0.9], [0.6000000000000001, -0.8], [0.6000000000000001, -0.7], [0.6000000000000001, -0.6], [0.6000000000000001, -0.5], [0.6000000000000001, -0.3999999999999999], [0.6000000000000001, -0.29999999999999993], [0.6000000000000001, -0.19999999999999996], [0.6000000000000001, -0.09999999999999998], [0.6000000000000001, 0.0], [0.6000000000000001, 0.10000000000000009], [0.6000000000000001, 0.20000000000000018], [0.6000000000000001, 0.30000000000000004], [0.6000000000000001, 0.40000000000000013], [0.6000000000000001, 0.5], [0.6000000000000001, 0.6000000000000001], [0.6000000000000001, 0.7000000000000002], [0.6000000000000001, 0.8], [0.6000000000000001, 0.9000000000000001], [0.8000000000000003, -1.0], [0.8000000000000003, -0.9], [0.8000000000000003, -0.8], [0.8000000000000003, -0.7], [0.8000000000000003, -0.6], [0.8000000000000003, -0.5], [0.8000000000000003, -0.3999999999999999], [0.8000000000000003, -0.29999999999999993], [0.8000000000000003, -0.19999999999999996], [0.8000000000000003, -0.09999999999999998], [0.8000000000000003, 0.0], [0.8000000000000003, 0.10000000000000009], [0.8000000000000003, 0.20000000000000018], [0.8000000000000003, 0.30000000000000004], [0.8000000000000003, 0.40000000000000013], [0.8000000000000003, 0.5], [0.8000000000000003, 0.6000000000000001], [0.8000000000000003, 0.7000000000000002], [0.8000000000000003, 0.8], [0.8000000000000003, 0.9000000000000001], [1.0, -1.0], [1.0, -0.9], [1.0, -0.8], [1.0, -0.7], [1.0, -0.6], [1.0, -0.5], [1.0, -0.3999999999999999], [1.0, -0.29999999999999993], [1.0, -0.19999999999999996], [1.0, -0.09999999999999998], [1.0, 0.0], [1.0, 0.10000000000000009], [1.0, 0.20000000000000018], [1.0, 0.30000000000000004], [1.0, 0.40000000000000013], [1.0, 0.5], [1.0, 0.6000000000000001], [1.0, 0.7000000000000002], [1.0, 0.8], [1.0, 0.9000000000000001], [1.2000000000000002, -1.0], [1.2000000000000002, -0.9], [1.2000000000000002, -0.8], [1.2000000000000002, -0.7], [1.2000000000000002, -0.6], [1.2000000000000002, -0.5], [1.2000000000000002, -0.3999999999999999], [1.2000000000000002, -0.29999999999999993], [1.2000000000000002, -0.19999999999999996], [1.2000000000000002, -0.09999999999999998], [1.2000000000000002, 0.0], [1.2000000000000002, 0.10000000000000009], [1.2000000000000002, 0.20000000000000018], [1.2000000000000002, 0.30000000000000004], [1.2000000000000002, 0.40000000000000013], [1.2000000000000002, 0.5], [1.2000000000000002, 0.6000000000000001], [1.2000000000000002, 0.7000000000000002], [1.2000000000000002, 0.8], [1.2000000000000002, 0.9000000000000001], [1.4000000000000004, -1.0], [1.4000000000000004, -0.9], [1.4000000000000004, -0.8], [1.4000000000000004, -0.7], [1.4000000000000004, -0.6], [1.4000000000000004, -0.5], [1.4000000000000004, -0.3999999999999999], [1.4000000000000004, -0.29999999999999993], [1.4000000000000004, -0.19999999999999996], [1.4000000000000004, -0.09999999999999998], [1.4000000000000004, 0.0], [1.4000000000000004, 0.10000000000000009], [1.4000000000000004, 0.20000000000000018], [1.4000000000000004, 0.30000000000000004], [1.4000000000000004, 0.40000000000000013], [1.4000000000000004, 0.5], [1.4000000000000004, 0.6000000000000001], [1.4000000000000004, 0.7000000000000002], [1.4000000000000004, 0.8], [1.4000000000000004, 0.9000000000000001], [1.6, -1.0], [1.6, -0.9], [1.6, -0.8], [1.6, -0.7], [1.6, -0.6], [1.6, -0.5], [1.6, -0.3999999999999999], [1.6, -0.29999999999999993], [1.6, -0.19999999999999996], [1.6, -0.09999999999999998], [1.6, 0.0], [1.6, 0.10000000000000009], [1.6, 0.20000000000000018], [1.6, 0.30000000000000004], [1.6, 0.40000000000000013], [1.6, 0.5], [1.6, 0.6000000000000001], [1.6, 0.7000000000000002], [1.6, 0.8], [1.6, 0.9000000000000001], [1.8000000000000003, -1.0], [1.8000000000000003, -0.9], [1.8000000000000003, -0.8], [1.8000000000000003, -0.7], [1.8000000000000003, -0.6], [1.8000000000000003, -0.5], [1.8000000000000003, -0.3999999999999999], [1.8000000000000003, -0.29999999999999993], [1.8000000000000003, -0.19999999999999996], [1.8000000000000003, -0.09999999999999998], [1.8000000000000003, 0.0], [1.8000000000000003, 0.10000000000000009], [1.8000000000000003, 0.20000000000000018], [1.8000000000000003, 0.30000000000000004], [1.8000000000000003, 0.40000000000000013], [1.8000000000000003, 0.5], [1.8000000000000003, 0.6000000000000001], [1.8000000000000003, 0.7000000000000002], [1.8000000000000003, 0.8], [1.8000000000000003, 0.9000000000000001]]\n"
     ]
    },
    {
     "ename": "NameError",
     "evalue": "name 'y_dummy_label' is not defined",
     "output_type": "error",
     "traceback": [
      "\u001b[0;31m---------------------------------------------------------------------------\u001b[0m",
      "\u001b[0;31mNameError\u001b[0m                                 Traceback (most recent call last)",
      "\u001b[0;32m<ipython-input-43-6991d05f830d>\u001b[0m in \u001b[0;36m<module>\u001b[0;34m\u001b[0m\n\u001b[1;32m      1\u001b[0m \u001b[0;31m#y_dummy_label = np.sign(y_dummy)\u001b[0m\u001b[0;34m\u001b[0m\u001b[0;34m\u001b[0m\u001b[0;34m\u001b[0m\u001b[0m\n\u001b[1;32m      2\u001b[0m \u001b[0mprint\u001b[0m\u001b[0;34m(\u001b[0m\u001b[0mX_dummy\u001b[0m\u001b[0;34m)\u001b[0m\u001b[0;34m\u001b[0m\u001b[0;34m\u001b[0m\u001b[0m\n\u001b[0;32m----> 3\u001b[0;31m \u001b[0mplt\u001b[0m\u001b[0;34m.\u001b[0m\u001b[0mscatter\u001b[0m\u001b[0;34m(\u001b[0m\u001b[0mX_dummy\u001b[0m\u001b[0;34m[\u001b[0m\u001b[0mnp\u001b[0m\u001b[0;34m.\u001b[0m\u001b[0mwhere\u001b[0m\u001b[0;34m(\u001b[0m\u001b[0my_dummy_label\u001b[0m \u001b[0;34m==\u001b[0m \u001b[0;36m1\u001b[0m\u001b[0;34m)\u001b[0m\u001b[0;34m[\u001b[0m\u001b[0;36m0\u001b[0m\u001b[0;34m]\u001b[0m\u001b[0;34m,\u001b[0m\u001b[0;36m0\u001b[0m\u001b[0;34m]\u001b[0m\u001b[0;34m,\u001b[0m \u001b[0mX_dummy\u001b[0m\u001b[0;34m[\u001b[0m\u001b[0mnp\u001b[0m\u001b[0;34m.\u001b[0m\u001b[0mwhere\u001b[0m\u001b[0;34m(\u001b[0m\u001b[0my_dummy_label\u001b[0m \u001b[0;34m==\u001b[0m \u001b[0;36m1\u001b[0m\u001b[0;34m)\u001b[0m\u001b[0;34m[\u001b[0m\u001b[0;36m0\u001b[0m\u001b[0;34m]\u001b[0m\u001b[0;34m,\u001b[0m\u001b[0;36m1\u001b[0m\u001b[0;34m]\u001b[0m\u001b[0;34m,\u001b[0m \u001b[0mcolor\u001b[0m\u001b[0;34m=\u001b[0m\u001b[0;34m\"b\"\u001b[0m\u001b[0;34m,\u001b[0m \u001b[0mmarker\u001b[0m\u001b[0;34m=\u001b[0m\u001b[0;34m\".\"\u001b[0m\u001b[0;34m,\u001b[0m\u001b[0mlabel\u001b[0m\u001b[0;34m=\u001b[0m\u001b[0;34m\"dummy, 1\"\u001b[0m\u001b[0;34m)\u001b[0m\u001b[0;34m\u001b[0m\u001b[0;34m\u001b[0m\u001b[0m\n\u001b[0m\u001b[1;32m      4\u001b[0m \u001b[0mplt\u001b[0m\u001b[0;34m.\u001b[0m\u001b[0mscatter\u001b[0m\u001b[0;34m(\u001b[0m\u001b[0mX_dummy\u001b[0m\u001b[0;34m[\u001b[0m\u001b[0mnp\u001b[0m\u001b[0;34m.\u001b[0m\u001b[0mwhere\u001b[0m\u001b[0;34m(\u001b[0m\u001b[0my_dummy_label\u001b[0m \u001b[0;34m==\u001b[0m \u001b[0;34m-\u001b[0m\u001b[0;36m1\u001b[0m\u001b[0;34m)\u001b[0m\u001b[0;34m[\u001b[0m\u001b[0;36m0\u001b[0m\u001b[0;34m]\u001b[0m\u001b[0;34m,\u001b[0m\u001b[0;36m0\u001b[0m\u001b[0;34m]\u001b[0m\u001b[0;34m,\u001b[0m \u001b[0mX_dummy\u001b[0m\u001b[0;34m[\u001b[0m\u001b[0mnp\u001b[0m\u001b[0;34m.\u001b[0m\u001b[0mwhere\u001b[0m\u001b[0;34m(\u001b[0m\u001b[0my_dummy_label\u001b[0m \u001b[0;34m==\u001b[0m \u001b[0;34m-\u001b[0m\u001b[0;36m1\u001b[0m\u001b[0;34m)\u001b[0m\u001b[0;34m[\u001b[0m\u001b[0;36m0\u001b[0m\u001b[0;34m]\u001b[0m\u001b[0;34m,\u001b[0m\u001b[0;36m1\u001b[0m\u001b[0;34m]\u001b[0m\u001b[0;34m,\u001b[0m \u001b[0mcolor\u001b[0m\u001b[0;34m=\u001b[0m\u001b[0;34m\"r\"\u001b[0m\u001b[0;34m,\u001b[0m \u001b[0mmarker\u001b[0m\u001b[0;34m=\u001b[0m\u001b[0;34m\".\"\u001b[0m\u001b[0;34m,\u001b[0m\u001b[0mlabel\u001b[0m\u001b[0;34m=\u001b[0m\u001b[0;34m\"dummy, -1\"\u001b[0m\u001b[0;34m)\u001b[0m\u001b[0;34m\u001b[0m\u001b[0;34m\u001b[0m\u001b[0m\n\u001b[1;32m      5\u001b[0m \u001b[0mplt\u001b[0m\u001b[0;34m.\u001b[0m\u001b[0mscatter\u001b[0m\u001b[0;34m(\u001b[0m\u001b[0mX_train\u001b[0m\u001b[0;34m[\u001b[0m\u001b[0mnp\u001b[0m\u001b[0;34m.\u001b[0m\u001b[0mwhere\u001b[0m\u001b[0;34m(\u001b[0m\u001b[0my_train\u001b[0m \u001b[0;34m==\u001b[0m \u001b[0;36m1\u001b[0m\u001b[0;34m)\u001b[0m\u001b[0;34m[\u001b[0m\u001b[0;36m0\u001b[0m\u001b[0;34m]\u001b[0m\u001b[0;34m,\u001b[0m\u001b[0;36m0\u001b[0m\u001b[0;34m]\u001b[0m\u001b[0;34m,\u001b[0m \u001b[0mX_train\u001b[0m\u001b[0;34m[\u001b[0m\u001b[0mnp\u001b[0m\u001b[0;34m.\u001b[0m\u001b[0mwhere\u001b[0m\u001b[0;34m(\u001b[0m\u001b[0my_train\u001b[0m \u001b[0;34m==\u001b[0m \u001b[0;36m1\u001b[0m\u001b[0;34m)\u001b[0m\u001b[0;34m[\u001b[0m\u001b[0;36m0\u001b[0m\u001b[0;34m]\u001b[0m\u001b[0;34m,\u001b[0m\u001b[0;36m1\u001b[0m\u001b[0;34m]\u001b[0m\u001b[0;34m,\u001b[0m \u001b[0mcolor\u001b[0m\u001b[0;34m=\u001b[0m\u001b[0;34m\"b\"\u001b[0m\u001b[0;34m,\u001b[0m \u001b[0mmarker\u001b[0m\u001b[0;34m=\u001b[0m\u001b[0;34m\"+\"\u001b[0m\u001b[0;34m,\u001b[0m \u001b[0mlabel\u001b[0m\u001b[0;34m=\u001b[0m\u001b[0;34m\"train, 1\"\u001b[0m\u001b[0;34m)\u001b[0m\u001b[0;34m\u001b[0m\u001b[0;34m\u001b[0m\u001b[0m\n",
      "\u001b[0;31mNameError\u001b[0m: name 'y_dummy_label' is not defined"
     ]
    }
   ],
   "source": [
    "#y_dummy_label = np.sign(y_dummy)\n",
    "print(X_dummy)\n",
    "plt.scatter(X_dummy[np.where(y_dummy_label == 1)[0],0], X_dummy[np.where(y_dummy_label == 1)[0],1], color=\"b\", marker=\".\",label=\"dummy, 1\")\n",
    "plt.scatter(X_dummy[np.where(y_dummy_label == -1)[0],0], X_dummy[np.where(y_dummy_label == -1)[0],1], color=\"r\", marker=\".\",label=\"dummy, -1\")\n",
    "plt.scatter(X_train[np.where(y_train == 1)[0],0], X_train[np.where(y_train == 1)[0],1], color=\"b\", marker=\"+\", label=\"train, 1\")\n",
    "plt.scatter(X_train[np.where(y_train == -1)[0],0], X_train[np.where(y_train == -1)[0],1], color=\"r\", marker=\"+\", label=\"train, -1\")\n",
    "plt.scatter(X_test[np.where(y_test == 1)[0],0], X_test[np.where(y_test == 1)[0],1], color=\"b\", marker=\"x\", label=\"test, 1\")\n",
    "plt.scatter(X_test[np.where(y_test == -1)[0],0], X_test[np.where(y_test == -1)[0],1], color=\"r\", marker=\"x\", label=\"test, -1\")\n",
    "plt.ylim([-1, 1])\n",
    "plt.xlim([-2, 2])\n",
    "plt.legend()\n",
    "plt.scatter(X_dummy[:,0], X_dummy[:,1],marker='s', s=140, c= y_dummy, alpha=0.9)\n",
    "plt.colorbar()"
   ]
  },
  {
   "cell_type": "code",
   "execution_count": 23,
   "id": "taken-drawing",
   "metadata": {},
   "outputs": [],
   "source": [
    "y_dummy_random = svm_untrained_kernel.decision_function(X_dummy)"
   ]
  },
  {
   "cell_type": "code",
   "execution_count": 45,
   "id": "opening-clothing",
   "metadata": {},
   "outputs": [
    {
     "ename": "NameError",
     "evalue": "name 'y_dummy_label' is not defined",
     "output_type": "error",
     "traceback": [
      "\u001b[0;31m---------------------------------------------------------------------------\u001b[0m",
      "\u001b[0;31mNameError\u001b[0m                                 Traceback (most recent call last)",
      "\u001b[0;32m<ipython-input-45-a4906a0ad061>\u001b[0m in \u001b[0;36m<module>\u001b[0;34m\u001b[0m\n\u001b[1;32m      3\u001b[0m \u001b[0;31m#print(X_dummy,'x dummy')\u001b[0m\u001b[0;34m\u001b[0m\u001b[0;34m\u001b[0m\u001b[0;34m\u001b[0m\u001b[0m\n\u001b[1;32m      4\u001b[0m \u001b[0;31m#print(X_dummy[np.where(y_dummy_random_label == 1)[0],0])\u001b[0m\u001b[0;34m\u001b[0m\u001b[0;34m\u001b[0m\u001b[0;34m\u001b[0m\u001b[0m\n\u001b[0;32m----> 5\u001b[0;31m \u001b[0mplt\u001b[0m\u001b[0;34m.\u001b[0m\u001b[0mscatter\u001b[0m\u001b[0;34m(\u001b[0m\u001b[0mX_dummy\u001b[0m\u001b[0;34m[\u001b[0m\u001b[0mnp\u001b[0m\u001b[0;34m.\u001b[0m\u001b[0mwhere\u001b[0m\u001b[0;34m(\u001b[0m\u001b[0my_dummy_label\u001b[0m \u001b[0;34m==\u001b[0m \u001b[0;36m1\u001b[0m\u001b[0;34m)\u001b[0m\u001b[0;34m[\u001b[0m\u001b[0;36m0\u001b[0m\u001b[0;34m]\u001b[0m\u001b[0;34m,\u001b[0m\u001b[0;36m0\u001b[0m\u001b[0;34m]\u001b[0m\u001b[0;34m,\u001b[0m \u001b[0mX_dummy\u001b[0m\u001b[0;34m[\u001b[0m\u001b[0mnp\u001b[0m\u001b[0;34m.\u001b[0m\u001b[0mwhere\u001b[0m\u001b[0;34m(\u001b[0m\u001b[0my_dummy_label\u001b[0m \u001b[0;34m==\u001b[0m \u001b[0;36m1\u001b[0m\u001b[0;34m)\u001b[0m\u001b[0;34m[\u001b[0m\u001b[0;36m0\u001b[0m\u001b[0;34m]\u001b[0m\u001b[0;34m,\u001b[0m\u001b[0;36m1\u001b[0m\u001b[0;34m]\u001b[0m\u001b[0;34m,\u001b[0m \u001b[0mcolor\u001b[0m\u001b[0;34m=\u001b[0m\u001b[0;34m\"b\"\u001b[0m\u001b[0;34m,\u001b[0m \u001b[0mmarker\u001b[0m\u001b[0;34m=\u001b[0m\u001b[0;34m\".\"\u001b[0m\u001b[0;34m,\u001b[0m\u001b[0mlabel\u001b[0m\u001b[0;34m=\u001b[0m\u001b[0;34m\"dummy, 1\"\u001b[0m\u001b[0;34m)\u001b[0m\u001b[0;34m\u001b[0m\u001b[0;34m\u001b[0m\u001b[0m\n\u001b[0m\u001b[1;32m      6\u001b[0m \u001b[0mplt\u001b[0m\u001b[0;34m.\u001b[0m\u001b[0mscatter\u001b[0m\u001b[0;34m(\u001b[0m\u001b[0mX_dummy\u001b[0m\u001b[0;34m[\u001b[0m\u001b[0mnp\u001b[0m\u001b[0;34m.\u001b[0m\u001b[0mwhere\u001b[0m\u001b[0;34m(\u001b[0m\u001b[0my_dummy_random_label\u001b[0m \u001b[0;34m==\u001b[0m \u001b[0;34m-\u001b[0m\u001b[0;36m1\u001b[0m\u001b[0;34m)\u001b[0m\u001b[0;34m[\u001b[0m\u001b[0;36m0\u001b[0m\u001b[0;34m]\u001b[0m\u001b[0;34m,\u001b[0m\u001b[0;36m0\u001b[0m\u001b[0;34m]\u001b[0m\u001b[0;34m,\u001b[0m \u001b[0mX_dummy\u001b[0m\u001b[0;34m[\u001b[0m\u001b[0mnp\u001b[0m\u001b[0;34m.\u001b[0m\u001b[0mwhere\u001b[0m\u001b[0;34m(\u001b[0m\u001b[0my_dummy_random_label\u001b[0m \u001b[0;34m==\u001b[0m \u001b[0;34m-\u001b[0m\u001b[0;36m1\u001b[0m\u001b[0;34m)\u001b[0m\u001b[0;34m[\u001b[0m\u001b[0;36m0\u001b[0m\u001b[0;34m]\u001b[0m\u001b[0;34m,\u001b[0m\u001b[0;36m1\u001b[0m\u001b[0;34m]\u001b[0m\u001b[0;34m,\u001b[0m \u001b[0mcolor\u001b[0m\u001b[0;34m=\u001b[0m\u001b[0;34m\"r\"\u001b[0m\u001b[0;34m,\u001b[0m \u001b[0mmarker\u001b[0m\u001b[0;34m=\u001b[0m\u001b[0;34m\".\"\u001b[0m\u001b[0;34m,\u001b[0m\u001b[0mlabel\u001b[0m\u001b[0;34m=\u001b[0m\u001b[0;34m\"dummy, -1\"\u001b[0m\u001b[0;34m)\u001b[0m\u001b[0;34m\u001b[0m\u001b[0;34m\u001b[0m\u001b[0m\n\u001b[1;32m      7\u001b[0m \u001b[0mplt\u001b[0m\u001b[0;34m.\u001b[0m\u001b[0mscatter\u001b[0m\u001b[0;34m(\u001b[0m\u001b[0mX_train\u001b[0m\u001b[0;34m[\u001b[0m\u001b[0mnp\u001b[0m\u001b[0;34m.\u001b[0m\u001b[0mwhere\u001b[0m\u001b[0;34m(\u001b[0m\u001b[0my_train\u001b[0m \u001b[0;34m==\u001b[0m \u001b[0;36m1\u001b[0m\u001b[0;34m)\u001b[0m\u001b[0;34m[\u001b[0m\u001b[0;36m0\u001b[0m\u001b[0;34m]\u001b[0m\u001b[0;34m,\u001b[0m\u001b[0;36m0\u001b[0m\u001b[0;34m]\u001b[0m\u001b[0;34m,\u001b[0m \u001b[0mX_train\u001b[0m\u001b[0;34m[\u001b[0m\u001b[0mnp\u001b[0m\u001b[0;34m.\u001b[0m\u001b[0mwhere\u001b[0m\u001b[0;34m(\u001b[0m\u001b[0my_train\u001b[0m \u001b[0;34m==\u001b[0m \u001b[0;36m1\u001b[0m\u001b[0;34m)\u001b[0m\u001b[0;34m[\u001b[0m\u001b[0;36m0\u001b[0m\u001b[0;34m]\u001b[0m\u001b[0;34m,\u001b[0m\u001b[0;36m1\u001b[0m\u001b[0;34m]\u001b[0m\u001b[0;34m,\u001b[0m \u001b[0mcolor\u001b[0m\u001b[0;34m=\u001b[0m\u001b[0;34m\"b\"\u001b[0m\u001b[0;34m,\u001b[0m \u001b[0mmarker\u001b[0m\u001b[0;34m=\u001b[0m\u001b[0;34m\"+\"\u001b[0m\u001b[0;34m,\u001b[0m \u001b[0mlabel\u001b[0m\u001b[0;34m=\u001b[0m\u001b[0;34m\"train, 1\"\u001b[0m\u001b[0;34m)\u001b[0m\u001b[0;34m\u001b[0m\u001b[0;34m\u001b[0m\u001b[0m\n",
      "\u001b[0;31mNameError\u001b[0m: name 'y_dummy_label' is not defined"
     ]
    }
   ],
   "source": [
    "y_dummy_random = np.asarray(y_dummy_random)\n",
    "y_dummy_random_label = np.sign(y_dummy_random)\n",
    "#print(X_dummy,'x dummy')\n",
    "#print(X_dummy[np.where(y_dummy_random_label == 1)[0],0])\n",
    "plt.scatter(X_dummy[np.where(y_dummy_label == 1)[0],0], X_dummy[np.where(y_dummy_label == 1)[0],1], color=\"b\", marker=\".\",label=\"dummy, 1\")\n",
    "plt.scatter(X_dummy[np.where(y_dummy_random_label == -1)[0],0], X_dummy[np.where(y_dummy_random_label == -1)[0],1], color=\"r\", marker=\".\",label=\"dummy, -1\")\n",
    "plt.scatter(X_train[np.where(y_train == 1)[0],0], X_train[np.where(y_train == 1)[0],1], color=\"b\", marker=\"+\", label=\"train, 1\")\n",
    "plt.scatter(X_train[np.where(y_train == -1)[0],0], X_train[np.where(y_train == -1)[0],1], color=\"r\", marker=\"+\", label=\"train, -1\")\n",
    "plt.scatter(X_test[np.where(y_test == 1)[0],0], X_test[np.where(y_test == 1)[0],1], color=\"b\", marker=\"x\", label=\"test, 1\")\n",
    "plt.scatter(X_test[np.where(y_test == -1)[0],0], X_test[np.where(y_test == -1)[0],1], color=\"r\", marker=\"x\", label=\"test, -1\")\n",
    "plt.ylim([-1, 1])\n",
    "plt.xlim([-2, 2])\n",
    "plt.legend()"
   ]
  },
  {
   "cell_type": "code",
   "execution_count": null,
   "id": "complimentary-conference",
   "metadata": {},
   "outputs": [],
   "source": [
    "plt.scatter(X_dummy[:,0], X_dummy[:,1],marker='s', s=140, c= y_dummy_random, alpha=0.9)\n",
    "plt.colorbar()"
   ]
  },
  {
   "cell_type": "code",
   "execution_count": null,
   "id": "proprietary-vegetable",
   "metadata": {},
   "outputs": [],
   "source": [
    "filename = \"dataset_symmetricdonuts_randomtest_depth_3_width_3.npy\""
   ]
  },
  {
   "cell_type": "code",
   "execution_count": null,
   "id": "religious-vienna",
   "metadata": {},
   "outputs": [],
   "source": [
    "with open(filename, 'wb') as f:\n",
    "    np.save(f, X_dummy)\n",
    "    np.save(f, y_dummy_random_label)\n",
    "    np.save(f, y_dummy)\n",
    "    np.save(f, X_train)\n",
    "    np.save(f, y_train)\n",
    "    np.save(f, X_test)\n",
    "    np.save(f, y_test)"
   ]
  },
  {
   "cell_type": "markdown",
   "id": "quick-candidate",
   "metadata": {},
   "source": [
    "with open(filename, 'rb') as f:\n",
    "    X_dummy_c = np.load(f)\n",
    "    y_dummy_label_c = np.load(f)\n",
    "    y_dummy_c = np.load(f)\n",
    "    X_train_c = np.load(f)\n",
    "    y_train_c = np.load(f)\n",
    "    X_test_c = np.load(f)\n",
    "    y_test_c = np.load(f)"
   ]
  },
  {
   "cell_type": "markdown",
   "id": "excited-curtis",
   "metadata": {},
   "source": [
    "plt.scatter(X_dummy_c[np.where(y_dummy_label_c == 1)[0],0], X_dummy_c[np.where(y_dummy_label_c == 1)[0],1], color=\"b\", marker=\".\",label=\"dummy, 1\")\n",
    "plt.scatter(X_dummy_c[np.where(y_dummy_label_c == -1)[0],0], X_dummy_c[np.where(y_dummy_label_c == -1)[0],1], color=\"r\", marker=\".\",label=\"dummy, -1\")\n",
    "plt.scatter(X_train_c[np.where(y_train_c == 1)[0],0], X_train_c[np.where(y_train_c == 1)[0],1], color=\"b\", marker=\"+\", label=\"train, 1\")\n",
    "plt.scatter(X_train_c[np.where(y_train_c == -1)[0],0], X_train_c[np.where(y_train_c == -1)[0],1], color=\"r\", marker=\"+\", label=\"train, -1\")\n",
    "plt.scatter(X_test_c[np.where(y_test_c == 1)[0],0], X_test_c[np.where(y_test_c == 1)[0],1], color=\"b\", marker=\"x\", label=\"test, 1\")\n",
    "plt.scatter(X_test_c[np.where(y_test_c == -1)[0],0], X_test_c[np.where(y_test_c == -1)[0],1], color=\"r\", marker=\"x\", label=\"test, -1\")\n",
    "plt.ylim([-1, 1])\n",
    "plt.xlim([-2, 2])\n",
    "plt.legend()"
   ]
  },
  {
   "cell_type": "markdown",
   "id": "applied-laundry",
   "metadata": {},
   "source": [
    "filename = \"parameters_symmetricdonuts.npy\""
   ]
  },
  {
   "cell_type": "markdown",
   "id": "frequent-newcastle",
   "metadata": {},
   "source": [
    "with open(filename, 'wb') as f:\n",
    "    np.save(f, params)\n",
    "    np.save(f, params_random)"
   ]
  },
  {
   "cell_type": "markdown",
   "id": "prompt-thirty",
   "metadata": {},
   "source": [
    "with open(filename, 'rb') as f:\n",
    "    params_c = np.load(f)\n",
    "    params_random_c = np.load(f)"
   ]
  },
  {
   "cell_type": "markdown",
   "id": "satisfied-forest",
   "metadata": {},
   "source": [
    "coef = svm_trained_kernel.dual_coef_"
   ]
  },
  {
   "cell_type": "markdown",
   "id": "convinced-favorite",
   "metadata": {},
   "source": [
    "intercept = svm_trained_kernel.intercept_"
   ]
  },
  {
   "cell_type": "markdown",
   "id": "elder-pressure",
   "metadata": {},
   "source": [
    "support = svm_trained_kernel.support_"
   ]
  },
  {
   "cell_type": "markdown",
   "id": "early-satisfaction",
   "metadata": {},
   "source": [
    "print(len(coef[0]), len(support))"
   ]
  },
  {
   "cell_type": "markdown",
   "id": "vocational-republic",
   "metadata": {},
   "source": [
    "coef"
   ]
  },
  {
   "cell_type": "markdown",
   "id": "compact-pocket",
   "metadata": {},
   "source": [
    "intercept"
   ]
  },
  {
   "cell_type": "markdown",
   "id": "retired-bedroom",
   "metadata": {},
   "source": [
    "(width,depth)\n",
    "\n",
    "(3,3): acc_train 0.65 to 0.85, acc_test 0.583 to 0.77, alignment 0.02 to 0.06\n",
    "\n",
    "(3,4): acc_train 0.7 to 0.93, acc_test 0.583 to 0.87, alignment 0.037 to 0.088"
   ]
  },
  {
   "cell_type": "code",
   "execution_count": null,
   "id": "atomic-activation",
   "metadata": {},
   "outputs": [],
   "source": []
  }
 ],
 "metadata": {
  "jupytext": {
   "encoding": "# -*- coding: utf-8 -*-",
   "formats": "ipynb,py:light"
  },
  "kernelspec": {
   "display_name": "Python 3",
   "language": "python",
   "name": "python3"
  },
  "language_info": {
   "codemirror_mode": {
    "name": "ipython",
    "version": 3
   },
   "file_extension": ".py",
   "mimetype": "text/x-python",
   "name": "python",
   "nbconvert_exporter": "python",
   "pygments_lexer": "ipython3",
   "version": "3.8.5"
  }
 },
 "nbformat": 4,
 "nbformat_minor": 5
}
