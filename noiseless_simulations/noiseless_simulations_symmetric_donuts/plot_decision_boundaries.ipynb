{
 "cells": [
  {
   "cell_type": "code",
   "execution_count": 1,
   "id": "planned-hungarian",
   "metadata": {},
   "outputs": [],
   "source": [
    "import numpy as np\n",
    "import glob\n",
    "import matplotlib as mpl\n",
    "import matplotlib.pyplot as plt\n",
    "import rsmf\n",
    "\n",
    "linmap = mpl.colors.LinearSegmentedColormap.from_list(\n",
    "    \"test\", [\"C1\", \"white\", \"C0\"], N=1024)  # mpl.colors.ListedColormap([\"C1\", \"C0\"])"
   ]
  },
  {
   "cell_type": "code",
   "execution_count": 24,
   "id": "wound-monitor",
   "metadata": {},
   "outputs": [],
   "source": [
    "#filename = './data/dataset_symmetricdonuts_depth_3_width_3.npy'\n",
    "\n",
    "\n",
    "def load_data_tom(filename):\n",
    "    with open(filename, 'rb') as f:\n",
    "        X_dummy = np.load(f)\n",
    "        y_dummy = np.load(f)\n",
    "        X_train = np.load(f)\n",
    "        y_train = np.load(f)\n",
    "        X_test = np.load(f)\n",
    "        y_test = np.load(f, allow_pickle=True)\n",
    "\n",
    "    return X_dummy, y_dummy, y_dummy, X_train, y_train, X_test, y_test\n",
    "\n",
    "\n",
    "def load_data_elies(filename):\n",
    "    with open(filename, 'rb') as f:\n",
    "        X_dummy = np.load(f)\n",
    "        y_dummy_label = np.load(f)\n",
    "        #y_dummy = np.load(f)\n",
    "        X_train = np.load(f)\n",
    "        y_train = np.load(f)\n",
    "        X_test = np.load(f)\n",
    "        y_test = np.load(f)\n",
    "    return X_dummy, y_dummy_label, X_train, y_train, X_test, y_test\n",
    "    #return X_dummy, y_dummy_label, y_dummy, X_train, y_train, X_test, y_test\n",
    "\n",
    "\n",
    "def plot_classification(ax, X_dummy, y_dummy, X_train, y_train, X_test, y_test, markersize=15, marker=\"o\", clip=1):\n",
    "\n",
    "    xx, yy = np.meshgrid(np.unique(X_dummy[:, 0]), np.unique(X_dummy[:, 1]))\n",
    "    zz = np.zeros_like(xx)\n",
    "\n",
    "    for idx in np.ndindex(*xx.shape):\n",
    "        zz[idx] = y_dummy[np.intersect1d(\n",
    "            (X_dummy[:, 0] == xx[idx]).nonzero(), (X_dummy[:, 1] == yy[idx]).nonzero())[0]]\n",
    "\n",
    "    ax.contourf(xx, yy, np.clip(zz, -clip, clip), cmap=linmap, alpha=0.5)\n",
    "    ax.scatter(X_train[np.where(y_train == 1)[0], 0], X_train[np.where(y_train == 1)[\n",
    "               0], 1], color=\"C0\", facecolors=None, marker=marker, s=markersize, label=\"Train\")\n",
    "    ax.scatter(X_train[np.where(y_train == -1)[0], 0], X_train[np.where(y_train == -1)\n",
    "                                                               [0], 1], color=\"C1\", facecolors=None, marker=marker, s=markersize, label=\"Train\")\n",
    "    ax.scatter(X_test[np.where(y_test == 1)[0], 0], X_test[np.where(y_test == 1)[\n",
    "               0], 1], color=\"C0\", facecolors=\"none\", marker=marker, s=markersize, label=\"Test\")\n",
    "    ax.scatter(X_test[np.where(y_test == -1)[0], 0], X_test[np.where(y_test == -1)[0], 1],\n",
    "               color=\"C1\", facecolors=\"none\", marker=marker, s=markersize, label=\"Test\")\n",
    "    # ax.set_ylim([0, 1])\n",
    "    # ax.set_xlim([0, 1])\n",
    "    ax.set_xticks([])\n",
    "    ax.set_yticks([])\n",
    "    ax.legend(\n",
    "        handles=[\n",
    "            mpl.lines.Line2D([0], [0], color=\"w\", markeredgecolor=\"black\", markerfacecolor=\"black\",\n",
    "                             marker=marker, markersize=np.sqrt(markersize), label='Train'),\n",
    "            mpl.lines.Line2D([0], [0], color=\"w\", markeredgecolor=\"black\", marker=marker, markersize=np.sqrt(markersize), label='Test'), ],\n",
    "        bbox_to_anchor=[0.5, 0.96],\n",
    "        loc='lower center', ncol=2, frameon=False)"
   ]
  },
  {
   "cell_type": "code",
   "execution_count": 25,
   "id": "liberal-franchise",
   "metadata": {},
   "outputs": [],
   "source": [
    "fmt = rsmf.setup(\n",
    "    r\"\\documentclass[twocolumn,superscriptaddress,nofootinbib]{revtex4-2}\")"
   ]
  },
  {
   "cell_type": "code",
   "execution_count": 26,
   "id": "original-video",
   "metadata": {
    "lines_to_next_cell": 0
   },
   "outputs": [
    {
     "name": "stderr",
     "output_type": "stream",
     "text": [
      "<ipython-input-26-01e47e49a208>:8: UserWarning: Matplotlib is currently using pgf, which is a non-GUI backend, so cannot show the figure.\n",
      "  plt.show()\n"
     ]
    }
   ],
   "source": [
    "fig = fmt.figure()\n",
    "\n",
    "plot_classification(plt.gca(\n",
    "), *load_data_elies(\"dataset_symmetricdonuts_randomtest_depth_3_width_3.npy\"), clip=.8)\n",
    "\n",
    "\n",
    "plt.tight_layout()\n",
    "plt.show()\n",
    "plt.savefig('test.png')"
   ]
  },
  {
   "cell_type": "code",
   "execution_count": 9,
   "id": "separate-mistake",
   "metadata": {
    "lines_to_next_cell": 0
   },
   "outputs": [],
   "source": [
    "fig = fmt.figure()\n",
    "\n",
    "#plot_classification(plt.gca(), *load_data_tom(\"dataset_checkerboard.npy\"))\n",
    "\n",
    "\n",
    "# plt.tight_layout()"
   ]
  },
  {
   "cell_type": "code",
   "execution_count": null,
   "id": "driven-brunei",
   "metadata": {
    "lines_to_next_cell": 2
   },
   "outputs": [],
   "source": [
    "glob.glob(\"*.npy\")"
   ]
  }
 ],
 "metadata": {
  "jupytext": {
   "formats": "ipynb,py:light"
  },
  "kernelspec": {
   "display_name": "Python 3",
   "language": "python",
   "name": "python3"
  },
  "language_info": {
   "codemirror_mode": {
    "name": "ipython",
    "version": 3
   },
   "file_extension": ".py",
   "mimetype": "text/x-python",
   "name": "python",
   "nbconvert_exporter": "python",
   "pygments_lexer": "ipython3",
   "version": "3.8.5"
  }
 },
 "nbformat": 4,
 "nbformat_minor": 5
}
