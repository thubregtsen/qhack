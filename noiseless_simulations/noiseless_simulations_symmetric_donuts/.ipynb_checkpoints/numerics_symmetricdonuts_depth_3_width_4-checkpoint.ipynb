{
 "cells": [
  {
   "cell_type": "markdown",
   "id": "recovered-liberal",
   "metadata": {},
   "source": [
    "**To be able to run this notebook you need to install the modified PennyLane version that contains the `qml.kernels` module via**\n",
    "```\n",
    "pip install git+https://www.github.com/johannesjmeyer/pennylane@kernel_module --upgrade\n",
    "```"
   ]
  },
  {
   "cell_type": "markdown",
   "id": "bizarre-frost",
   "metadata": {},
   "source": [
    "### Initialization and circuit definitions"
   ]
  },
  {
   "cell_type": "code",
   "execution_count": 1,
   "id": "verbal-wells",
   "metadata": {},
   "outputs": [],
   "source": [
    "import pennylane as qml\n",
    "from pennylane import numpy as np\n",
    "import matplotlib as mpl\n",
    "import matplotlib.pyplot as plt\n",
    "from sklearn.svm import SVC\n",
    "from sklearn import datasets\n",
    "\n",
    "np.random.seed(42) # sorry, 42 did not build a nice dataset"
   ]
  },
  {
   "cell_type": "code",
   "execution_count": 2,
   "id": "incorrect-bearing",
   "metadata": {
    "lines_to_next_cell": 0
   },
   "outputs": [],
   "source": [
    "def layer(x, params, wires, i0=0, inc=1):\n",
    "    \"\"\"Building block of the embedding Ansatz\"\"\"\n",
    "    i = i0\n",
    "    for j, wire in enumerate(wires):\n",
    "        qml.Hadamard(wires=[wire])\n",
    "        qml.RZ(x[i % len(x)], wires=[wire])\n",
    "        i += inc\n",
    "        qml.RY(params[0, j], wires=[wire])\n",
    "        \n",
    "    qml.broadcast(unitary=qml.CRZ, pattern=\"ring\", wires=wires, parameters=params[1])\n",
    "\n",
    "@qml.template\n",
    "def ansatz(x, params, wires):\n",
    "    \"\"\"The embedding Ansatz\"\"\"\n",
    "    for j, layer_params in enumerate(params):\n",
    "        layer(x, layer_params, wires, i0=j * len(wires))\n",
    "        \n",
    "def random_params(num_wires, num_layers):\n",
    "    return np.random.uniform(0, 2*np.pi, (num_layers, 2, num_wires))\n",
    "\n",
    "def accuracy(classifier, X, Y_target):\n",
    "    return 1 - np.count_nonzero(classifier.predict(X) - Y_target) / len(Y_target)\n",
    "\n",
    "def accuracy_predict(Y_predict, Y_target):\n",
    "    return 1 - np.count_nonzero(Y_predict - Y_target) / len(Y_target)"
   ]
  },
  {
   "cell_type": "code",
   "execution_count": 3,
   "id": "joint-combat",
   "metadata": {
    "lines_to_end_of_cell_marker": 2,
    "lines_to_next_cell": 2
   },
   "outputs": [],
   "source": [
    "features = 2\n",
    "width = 4\n",
    "depth = 3\n",
    "\n",
    "# init device\n",
    "dev = qml.device(\"default.qubit\", wires=width)\n",
    "wires = list(range(width))\n",
    "\n",
    "# init the embedding kernel\n",
    "k = qml.kernels.EmbeddingKernel(lambda x, params: ansatz(x, params, wires), dev)"
   ]
  },
  {
   "cell_type": "markdown",
   "id": "tender-ceiling",
   "metadata": {},
   "source": [
    "### Alternative data set\n",
    "\n",
    "Two pairs of concenctric circles centered at +/- 1 and small radius .4, big radius .8.\n",
    "Classes are inverted right and left"
   ]
  },
  {
   "cell_type": "code",
   "execution_count": 4,
   "id": "racial-router",
   "metadata": {},
   "outputs": [],
   "source": [
    "def datagen (n_train, n_test):\n",
    "    # generate data in two circles\n",
    "    # the radii are chosen so that data is balanced\n",
    "    n_part = int(n_train/2)\n",
    "    n_test = int(n_test/2)\n",
    "    i = 0\n",
    "    X = []\n",
    "    X_ = []\n",
    "    y = []\n",
    "    y_ = []\n",
    "    while (i<n_part):\n",
    "        x1 = np.random.uniform(-.707,.707) # 0.707... = 0.5*\\sqrt(2)\n",
    "        x2 = np.random.uniform(-.707,.707)\n",
    "        if((x1)*(x1) + x2*x2 < .5):\n",
    "            i+=1\n",
    "            X.append([1+x1,x2])\n",
    "            if(x1*x1 + x2*x2 < .25):\n",
    "                y.append(1)\n",
    "            else:\n",
    "                y.append(-1)\n",
    "    \n",
    "    i=0\n",
    "    while(i<n_part):\n",
    "        x1 = np.random.uniform(-.707,.707)\n",
    "        x2 = np.random.uniform(-.707,.707)\n",
    "        if(x1*x1 + x2*x2 <.5):\n",
    "            i+=1\n",
    "            X.append([x1-1,x2])\n",
    "            if(x1*x1 + x2*x2 < .25):\n",
    "                y.append(-1)\n",
    "            else:\n",
    "                y.append(1)\n",
    "    \n",
    "    i = 0\n",
    "    while (i<n_test):\n",
    "        x1 = np.random.uniform(-.707,.707)\n",
    "        x2 = np.random.uniform(-.707,.707)\n",
    "        if(x1*x1 + x2*x2 < .5):\n",
    "            i+=1\n",
    "            X_.append([1+x1,x2])\n",
    "            if(x1*x1 + x2*x2 < .25):\n",
    "                y_.append(1)\n",
    "            else:\n",
    "                y_.append(-1)\n",
    "    \n",
    "    i=0\n",
    "    while(i<n_test):\n",
    "        x1 = np.random.uniform(-.707,.707)\n",
    "        x2 = np.random.uniform(-.707,.707)\n",
    "        if(x1*x1 + x2*x2 <.5):\n",
    "            i+=1\n",
    "            X_.append([x1-1,x2])\n",
    "            if(x1*x1 + x2*x2 < .25):\n",
    "                y_.append(-1)\n",
    "            else:\n",
    "                y_.append(1)\n",
    "            \n",
    "    return X,y, X_,y_"
   ]
  },
  {
   "cell_type": "code",
   "execution_count": 5,
   "id": "cutting-camera",
   "metadata": {},
   "outputs": [],
   "source": [
    "X_train ,y_train, X_test, y_test = datagen(60,60)"
   ]
  },
  {
   "cell_type": "code",
   "execution_count": 6,
   "id": "fifteen-bibliography",
   "metadata": {},
   "outputs": [],
   "source": [
    "X_train = np.asarray(X_train)\n",
    "y_train = np.asarray(y_train)\n",
    "X_test = np.asarray(X_test)\n",
    "y_test = np.asarray(y_test)"
   ]
  },
  {
   "cell_type": "code",
   "execution_count": 7,
   "id": "changing-employer",
   "metadata": {},
   "outputs": [
    {
     "data": {
      "text/plain": [
       "((60, 2), (60, 2))"
      ]
     },
     "execution_count": 7,
     "metadata": {},
     "output_type": "execute_result"
    }
   ],
   "source": [
    "X_train.shape, X_test.shape"
   ]
  },
  {
   "cell_type": "code",
   "execution_count": 8,
   "id": "sound-phase",
   "metadata": {},
   "outputs": [
    {
     "name": "stdout",
     "output_type": "stream",
     "text": [
      "The training data is as follows:\n"
     ]
    },
    {
     "data": {
      "image/png": "[encoded data removed]",
      "text/plain": [
       "<Figure size 432x288 with 1 Axes>"
      ]
     },
     "metadata": {
      "needs_background": "light"
     },
     "output_type": "display_data"
    }
   ],
   "source": [
    "# plot for visual inspection\n",
    "print(\"The training data is as follows:\")\n",
    "plt.scatter(X_train[np.where(y_train == 1)[0],0], X_train[np.where(y_train == 1)[0],1], color=\"b\", marker=\".\", label=\"train, 1\")\n",
    "plt.scatter(X_train[np.where(y_train == -1)[0],0], X_train[np.where(y_train == -1)[0],1], color=\"r\", marker=\".\", label=\"train, -1\")\n",
    "#print(\"The test data is as follows:\")\n",
    "plt.scatter(X_test[np.where(y_test == 1)[0],0], X_test[np.where(y_test == 1)[0],1], color=\"b\", marker=\"x\", label=\"test, 1\")\n",
    "plt.scatter(X_test[np.where(y_test == -1)[0],0], X_test[np.where(y_test == -1)[0],1], color=\"r\", marker=\"x\", label=\"test, -1\")\n",
    "plt.ylim([-1, 1])\n",
    "plt.xlim([-2, 2])\n",
    "plt.legend()\n",
    "plt.show()"
   ]
  },
  {
   "cell_type": "markdown",
   "id": "interesting-premises",
   "metadata": {},
   "source": [
    "### Assessment of random initialization"
   ]
  },
  {
   "cell_type": "code",
   "execution_count": null,
   "id": "subsequent-comfort",
   "metadata": {},
   "outputs": [],
   "source": [
    "# make various runs with random parameters to see what range the results can be in\n",
    "acc_log = []\n",
    "params_log = []\n",
    "test_predict_log = []\n",
    "train_predict_log = []\n",
    "for i in range(5):\n",
    "    ## choose random params for the kernel\n",
    "    params = random_params(width, depth)\n",
    "    #print(params)\n",
    "    ## fit the SVM on the training data\n",
    "    svm_untrained_kernel = SVC(kernel=lambda X1, X2: k.kernel_matrix(X1, X2, params)).fit(X_train, y_train)\n",
    "    ## evaluate on the test set\n",
    "    test_predict_log.append(svm_untrained_kernel.predict(X_test))\n",
    "    train_predict_log.append(svm_untrained_kernel.predict(X_train))\n",
    "    untrained_accuracy_test = accuracy_predict(test_predict_log[-1], y_test)\n",
    "    untrained_accuracy_train = accuracy_predict(train_predict_log[-1], y_train)\n",
    "    print(\"without kernel training accuracy on test\", untrained_accuracy_test)\n",
    "    print(\"without kernel training accuracy on train\", untrained_accuracy_train)\n",
    "    acc_log.append(untrained_accuracy_test)\n",
    "    params_log.append(params)\n",
    "print(\"going with\", acc_log[np.argmin(np.asarray(acc_log))])"
   ]
  },
  {
   "cell_type": "code",
   "execution_count": null,
   "id": "single-marketplace",
   "metadata": {},
   "outputs": [],
   "source": [
    "params_random = params_log[np.argmin(np.asarray(acc_log))]"
   ]
  },
  {
   "cell_type": "code",
   "execution_count": null,
   "id": "indoor-staff",
   "metadata": {},
   "outputs": [],
   "source": [
    "print(\"Untrained accuracies:\", acc_log)"
   ]
  },
  {
   "cell_type": "code",
   "execution_count": null,
   "id": "golden-assurance",
   "metadata": {},
   "outputs": [],
   "source": [
    "plotting =  True"
   ]
  },
  {
   "cell_type": "markdown",
   "id": "graduate-stupid",
   "metadata": {},
   "source": [
    "### Gradient Ascent Alignment"
   ]
  },
  {
   "cell_type": "code",
   "execution_count": null,
   "id": "southwest-organization",
   "metadata": {},
   "outputs": [],
   "source": [
    "# evaluate the performance with trained parameters for the kernel\n",
    "## train the kernel\n",
    "opt = qml.GradientDescentOptimizer(1)\n",
    "for i in range(1000):\n",
    "    subset = np.random.choice(list(range(len(X_train))), 4)\n",
    "    params = opt.step(lambda _params: -k.target_alignment(X_train[subset], y_train[subset], _params), params)\n",
    "    \n",
    "    if (i+1) % 50 == 0:\n",
    "        print(\"Step {} - Alignment on train = {:.3f}\".format(i+1, k.target_alignment(X_train, y_train, params)))\n",
    "# ### Train SVM\n",
    "print(params)"
   ]
  },
  {
   "cell_type": "code",
   "execution_count": null,
   "id": "tender-lindsay",
   "metadata": {
    "lines_to_next_cell": 0
   },
   "outputs": [],
   "source": [
    "## fit the SVM on the train set\n",
    "svm_trained_kernel = SVC(kernel=lambda X1, X2: k.kernel_matrix(X1, X2, params)).fit(X_train, y_train)\n",
    "p_train = svm_trained_kernel.predict(X_train)\n",
    "p_test = svm_trained_kernel.predict(X_test)\n",
    "\n",
    "## evaluate the accuracy on the test set\n",
    "trained_accuracy = accuracy(svm_trained_kernel, X_train, y_train)\n",
    "test_accuracy = accuracy(svm_trained_kernel, X_test, y_test)\n",
    "print(\"with kernel training accuracy on train\", trained_accuracy)\n",
    "print(\"with kernel training accuracy on test\", test_accuracy)"
   ]
  },
  {
   "cell_type": "markdown",
   "id": "indirect-weight",
   "metadata": {},
   "source": [
    "### Plot results"
   ]
  },
  {
   "cell_type": "code",
   "execution_count": null,
   "id": "noted-rehabilitation",
   "metadata": {},
   "outputs": [],
   "source": [
    "startx = -2\n",
    "stopx = 2\n",
    "starty = -1\n",
    "stopy = 1\n",
    "num = 20\n",
    "\n",
    "X_dummy = []\n",
    "\n",
    "incx = (stopx-startx)/num\n",
    "incy = (stopy-starty)/num\n",
    "\n",
    "for i in range(num):\n",
    "    for j in range(num):\n",
    "        X_dummy.append([startx + i*incx,starty + j*incy])"
   ]
  },
  {
   "cell_type": "code",
   "execution_count": null,
   "id": "exact-google",
   "metadata": {},
   "outputs": [],
   "source": [
    "y_dummy = svm_trained_kernel.decision_function(X_dummy)"
   ]
  },
  {
   "cell_type": "code",
   "execution_count": null,
   "id": "rapid-television",
   "metadata": {},
   "outputs": [],
   "source": [
    "X_dummy = np.asarray(X_dummy)\n",
    "y_dummy = np.asarray(y_dummy)"
   ]
  },
  {
   "cell_type": "code",
   "execution_count": null,
   "id": "progressive-failing",
   "metadata": {
    "lines_to_next_cell": 0
   },
   "outputs": [],
   "source": [
    "y_dummy_label = np.sign(y_dummy)\n",
    "\n",
    "plt.scatter(X_dummy[np.where(y_dummy_label == 1)[0],0], X_dummy[np.where(y_dummy_label == 1)[0],1], color=\"b\", marker=\".\",label=\"dummy, 1\")\n",
    "plt.scatter(X_dummy[np.where(y_dummy_label == -1)[0],0], X_dummy[np.where(y_dummy_label == -1)[0],1], color=\"r\", marker=\".\",label=\"dummy, -1\")\n",
    "plt.scatter(X_train[np.where(y_train == 1)[0],0], X_train[np.where(y_train == 1)[0],1], color=\"b\", marker=\"+\", label=\"train, 1\")\n",
    "plt.scatter(X_train[np.where(y_train == -1)[0],0], X_train[np.where(y_train == -1)[0],1], color=\"r\", marker=\"+\", label=\"train, -1\")\n",
    "plt.scatter(X_test[np.where(y_test == 1)[0],0], X_test[np.where(y_test == 1)[0],1], color=\"b\", marker=\"x\", label=\"test, 1\")\n",
    "plt.scatter(X_test[np.where(y_test == -1)[0],0], X_test[np.where(y_test == -1)[0],1], color=\"r\", marker=\"x\", label=\"test, -1\")\n",
    "plt.ylim([-1, 1])\n",
    "plt.xlim([-2, 2])\n",
    "plt.legend()"
   ]
  },
  {
   "cell_type": "code",
   "execution_count": null,
   "id": "mature-projector",
   "metadata": {},
   "outputs": [],
   "source": [
    "plt.scatter(X_dummy[:,0], X_dummy[:,1],marker='s', s=140, c= y_dummy, alpha=0.9)\n",
    "plt.colorbar()"
   ]
  },
  {
   "cell_type": "code",
   "execution_count": null,
   "id": "lightweight-cleanup",
   "metadata": {},
   "outputs": [],
   "source": [
    "y_dummy_random = svm_untrained_kernel.decision_function(X_dummy)"
   ]
  },
  {
   "cell_type": "code",
   "execution_count": null,
   "id": "exact-lawyer",
   "metadata": {},
   "outputs": [],
   "source": [
    "y_dummy_random_label = np.sign(y_dummy_random)\n",
    "\n",
    "plt.scatter(X_dummy[np.where(y_dummy_label == 1)[0],0], X_dummy[np.where(y_dummy_label == 1)[0],1], color=\"b\", marker=\".\",label=\"dummy, 1\")\n",
    "plt.scatter(X_dummy[np.where(y_dummy_label == -1)[0],0], X_dummy[np.where(y_dummy_label == -1)[0],1], color=\"r\", marker=\".\",label=\"dummy, -1\")\n",
    "plt.scatter(X_train[np.where(y_train == 1)[0],0], X_train[np.where(y_train == 1)[0],1], color=\"b\", marker=\"+\", label=\"train, 1\")\n",
    "plt.scatter(X_train[np.where(y_train == -1)[0],0], X_train[np.where(y_train == -1)[0],1], color=\"r\", marker=\"+\", label=\"train, -1\")\n",
    "plt.scatter(X_test[np.where(y_test == 1)[0],0], X_test[np.where(y_test == 1)[0],1], color=\"b\", marker=\"x\", label=\"test, 1\")\n",
    "plt.scatter(X_test[np.where(y_test == -1)[0],0], X_test[np.where(y_test == -1)[0],1], color=\"r\", marker=\"x\", label=\"test, -1\")\n",
    "plt.ylim([-1, 1])\n",
    "plt.xlim([-2, 2])\n",
    "plt.legend()"
   ]
  },
  {
   "cell_type": "code",
   "execution_count": null,
   "id": "sixth-improvement",
   "metadata": {},
   "outputs": [],
   "source": [
    "plt.scatter(X_dummy[:,0], X_dummy[:,1],marker='s', s=140, c= y_dummy_random, alpha=0.9)\n",
    "plt.colorbar()"
   ]
  },
  {
   "cell_type": "code",
   "execution_count": null,
   "id": "statistical-letter",
   "metadata": {},
   "outputs": [],
   "source": [
    "filename = \"dataset_symmetricdonuts_random_depth_3_width_4.npy\""
   ]
  },
  {
   "cell_type": "code",
   "execution_count": null,
   "id": "decreased-correction",
   "metadata": {},
   "outputs": [],
   "source": [
    "with open(filename, 'wb') as f:\n",
    "    np.save(f, X_dummy)\n",
    "    np.save(f, y_dummy_random_label)\n",
    "    np.save(f, y_dummy)\n",
    "    np.save(f, X_train)\n",
    "    np.save(f, y_train)\n",
    "    np.save(f, X_test)\n",
    "    np.save(f, y_test)"
   ]
  },
  {
   "cell_type": "markdown",
   "id": "tracked-heater",
   "metadata": {},
   "source": [
    "with open(filename, 'rb') as f:\n",
    "    X_dummy_c = np.load(f)\n",
    "    y_dummy_label_c = np.load(f)\n",
    "    y_dummy_c = np.load(f)\n",
    "    X_train_c = np.load(f)\n",
    "    y_train_c = np.load(f)\n",
    "    X_test_c = np.load(f)\n",
    "    y_test_c = np.load(f)"
   ]
  },
  {
   "cell_type": "markdown",
   "id": "turkish-specialist",
   "metadata": {},
   "source": [
    "plt.scatter(X_dummy_c[np.where(y_dummy_label_c == 1)[0],0], X_dummy_c[np.where(y_dummy_label_c == 1)[0],1], color=\"b\", marker=\".\",label=\"dummy, 1\")\n",
    "plt.scatter(X_dummy_c[np.where(y_dummy_label_c == -1)[0],0], X_dummy_c[np.where(y_dummy_label_c == -1)[0],1], color=\"r\", marker=\".\",label=\"dummy, -1\")\n",
    "plt.scatter(X_train_c[np.where(y_train_c == 1)[0],0], X_train_c[np.where(y_train_c == 1)[0],1], color=\"b\", marker=\"+\", label=\"train, 1\")\n",
    "plt.scatter(X_train_c[np.where(y_train_c == -1)[0],0], X_train_c[np.where(y_train_c == -1)[0],1], color=\"r\", marker=\"+\", label=\"train, -1\")\n",
    "plt.scatter(X_test_c[np.where(y_test_c == 1)[0],0], X_test_c[np.where(y_test_c == 1)[0],1], color=\"b\", marker=\"x\", label=\"test, 1\")\n",
    "plt.scatter(X_test_c[np.where(y_test_c == -1)[0],0], X_test_c[np.where(y_test_c == -1)[0],1], color=\"r\", marker=\"x\", label=\"test, -1\")\n",
    "plt.ylim([-1, 1])\n",
    "plt.xlim([-2, 2])\n",
    "plt.legend()"
   ]
  },
  {
   "cell_type": "markdown",
   "id": "recent-healthcare",
   "metadata": {},
   "source": [
    "filename = \"parameters_symmetricdonuts.npy\""
   ]
  },
  {
   "cell_type": "markdown",
   "id": "effective-ownership",
   "metadata": {},
   "source": [
    "with open(filename, 'wb') as f:\n",
    "    np.save(f, params)\n",
    "    np.save(f, params_random)"
   ]
  },
  {
   "cell_type": "markdown",
   "id": "willing-toronto",
   "metadata": {},
   "source": [
    "with open(filename, 'rb') as f:\n",
    "    params_c = np.load(f)\n",
    "    params_random_c = np.load(f)"
   ]
  },
  {
   "cell_type": "markdown",
   "id": "laden-president",
   "metadata": {},
   "source": [
    "coef = svm_trained_kernel.dual_coef_"
   ]
  },
  {
   "cell_type": "markdown",
   "id": "british-closure",
   "metadata": {},
   "source": [
    "intercept = svm_trained_kernel.intercept_"
   ]
  },
  {
   "cell_type": "markdown",
   "id": "sacred-priest",
   "metadata": {},
   "source": [
    "support = svm_trained_kernel.support_"
   ]
  },
  {
   "cell_type": "markdown",
   "id": "lucky-cotton",
   "metadata": {},
   "source": [
    "print(len(coef[0]), len(support))"
   ]
  },
  {
   "cell_type": "markdown",
   "id": "dried-plaza",
   "metadata": {},
   "source": [
    "coef"
   ]
  },
  {
   "cell_type": "markdown",
   "id": "strong-munich",
   "metadata": {},
   "source": [
    "intercept"
   ]
  },
  {
   "cell_type": "markdown",
   "id": "arranged-increase",
   "metadata": {},
   "source": [
    "(width,depth)\n",
    "\n",
    "(3,3): acc_train 0.65 to 0.85, acc_test 0.583 to 0.77, alignment 0.02 to 0.06\n",
    "\n",
    "(3,4): acc_train 0.7 to 0.93, acc_test 0.583 to 0.87, alignment 0.037 to 0.088"
   ]
  },
  {
   "cell_type": "code",
   "execution_count": null,
   "id": "working-separate",
   "metadata": {},
   "outputs": [],
   "source": []
  }
 ],
 "metadata": {
  "jupytext": {
   "encoding": "# -*- coding: utf-8 -*-",
   "formats": "ipynb,py:light",
   "text_representation": {
    "extension": ".py",
    "format_name": "light",
    "format_version": "1.5",
    "jupytext_version": "1.10.2"
   }
  },
  "kernelspec": {
   "display_name": "Python 3",
   "language": "python",
   "name": "python3"
  },
  "language_info": {
   "codemirror_mode": {
    "name": "ipython",
    "version": 3
   },
   "file_extension": ".py",
   "mimetype": "text/x-python",
   "name": "python",
   "nbconvert_exporter": "python",
   "pygments_lexer": "ipython3",
   "version": "3.8.5"
  }
 },
 "nbformat": 4,
 "nbformat_minor": 5
}
