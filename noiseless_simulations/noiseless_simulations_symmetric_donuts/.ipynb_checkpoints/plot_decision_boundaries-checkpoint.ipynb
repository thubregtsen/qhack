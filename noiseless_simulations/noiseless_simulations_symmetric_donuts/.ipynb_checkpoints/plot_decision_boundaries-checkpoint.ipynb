{
 "cells": [
  {
   "cell_type": "code",
   "execution_count": 3,
   "id": "planned-hungarian",
   "metadata": {},
   "outputs": [],
   "source": [
    "import numpy as np\n",
    "import glob\n",
    "import matplotlib as mpl\n",
    "import matplotlib.pyplot as plt\n",
    "import rsmf\n",
    "\n",
    "linmap = mpl.colors.LinearSegmentedColormap.from_list(\"test\", [\"C1\", \"white\" ,\"C0\"], N=1024)# mpl.colors.ListedColormap([\"C1\", \"C0\"])"
   ]
  },
  {
   "cell_type": "code",
   "execution_count": 4,
   "id": "wound-monitor",
   "metadata": {},
   "outputs": [],
   "source": [
    "filename = './data/dataset_symmetricdonuts_depth_3_width_3.npy'\n",
    "\n",
    "def load_data_tom(filename):\n",
    "    with open(filename, 'rb') as f:\n",
    "        X_dummy = np.load(f)\n",
    "        y_dummy = np.load(f)\n",
    "        X_train = np.load(f)\n",
    "        y_train = np.load(f)\n",
    "        X_test = np.load(f)\n",
    "        y_test = np.load(f)\n",
    "        \n",
    "    return X_dummy, y_dummy, y_dummy, X_train, y_train, X_test, y_test\n",
    "\n",
    "def load_data_elies(filename):\n",
    "    with open(filename, 'rb') as f:\n",
    "        X_dummy = np.load(f)\n",
    "        y_dummy_label = np.load(f)\n",
    "        y_dummy = np.load(f)\n",
    "        X_train = np.load(f)\n",
    "        y_train = np.load(f)\n",
    "        X_test = np.load(f)\n",
    "        y_test = np.load(f)\n",
    "        \n",
    "    return X_dummy, y_dummy_label, y_dummy, X_train, y_train, X_test, y_test\n",
    "    \n",
    "def plot_classification(ax, X_dummy, y_dummy_label, y_dummy, X_train, y_train, X_test, y_test, markersize=15, marker=\"o\", clip=1):\n",
    "    \n",
    "    xx, yy = np.meshgrid(np.unique(X_dummy[:,0]), np.unique(X_dummy[:,1]))\n",
    "    zz = np.zeros_like(xx)\n",
    "\n",
    "    for idx in np.ndindex(*xx.shape):\n",
    "        zz[idx] = y_dummy[np.intersect1d((X_dummy[:,0] == xx[idx]).nonzero(), (X_dummy[:,1] == yy[idx]).nonzero())[0]]\n",
    "\n",
    "\n",
    "    ax.contourf(xx, yy, np.clip(zz, -clip, clip), cmap=linmap, alpha=0.5)\n",
    "    ax.scatter(X_train[np.where(y_train == 1)[0],0], X_train[np.where(y_train == 1)[0],1], color=\"C0\", facecolors=None, marker=marker, s=markersize, label=\"Train\")\n",
    "    ax.scatter(X_train[np.where(y_train == -1)[0],0], X_train[np.where(y_train == -1)[0],1], color=\"C1\", facecolors=None, marker=marker, s=markersize, label=\"Train\")\n",
    "    ax.scatter(X_test[np.where(y_test == 1)[0],0], X_test[np.where(y_test == 1)[0],1], color=\"C0\", facecolors=\"none\", marker=marker, s=markersize, label=\"Test\")\n",
    "    ax.scatter(X_test[np.where(y_test == -1)[0],0], X_test[np.where(y_test == -1)[0],1], color=\"C1\", facecolors=\"none\", marker=marker, s=markersize, label=\"Test\")\n",
    "    # ax.set_ylim([0, 1])\n",
    "    # ax.set_xlim([0, 1])\n",
    "    ax.set_xticks([])\n",
    "    ax.set_yticks([])\n",
    "    ax.legend(\n",
    "        handles=[\n",
    "            mpl.lines.Line2D([0], [0], color=\"w\", markeredgecolor=\"black\", markerfacecolor=\"black\", marker=marker, markersize=np.sqrt(markersize), label='Train'),\n",
    "            mpl.lines.Line2D([0], [0], color=\"w\", markeredgecolor=\"black\", marker=marker, markersize=np.sqrt(markersize), label='Test'),],  \n",
    "        bbox_to_anchor=[0.5, 0.96], \n",
    "        loc='lower center', ncol=2, frameon=False)"
   ]
  },
  {
   "cell_type": "code",
   "execution_count": 5,
   "id": "liberal-franchise",
   "metadata": {},
   "outputs": [],
   "source": [
    "fmt = rsmf.setup(r\"\\documentclass[twocolumn,superscriptaddress,nofootinbib]{revtex4-2}\")"
   ]
  },
  {
   "cell_type": "code",
   "execution_count": 6,
   "id": "original-video",
   "metadata": {},
   "outputs": [
    {
     "ename": "FileNotFoundError",
     "evalue": "[Errno 2] No such file or directory: 'dataset_symmetricdonuts.npy'",
     "output_type": "error",
     "traceback": [
      "\u001b[0;31m---------------------------------------------------------------------------\u001b[0m",
      "\u001b[0;31mFileNotFoundError\u001b[0m                         Traceback (most recent call last)",
      "\u001b[0;32m<ipython-input-6-6d7c79fe3f69>\u001b[0m in \u001b[0;36m<module>\u001b[0;34m\u001b[0m\n\u001b[1;32m      1\u001b[0m \u001b[0mfig\u001b[0m \u001b[0;34m=\u001b[0m \u001b[0mfmt\u001b[0m\u001b[0;34m.\u001b[0m\u001b[0mfigure\u001b[0m\u001b[0;34m(\u001b[0m\u001b[0;34m)\u001b[0m\u001b[0;34m\u001b[0m\u001b[0;34m\u001b[0m\u001b[0m\n\u001b[1;32m      2\u001b[0m \u001b[0;34m\u001b[0m\u001b[0m\n\u001b[0;32m----> 3\u001b[0;31m \u001b[0mplot_classification\u001b[0m\u001b[0;34m(\u001b[0m\u001b[0mplt\u001b[0m\u001b[0;34m.\u001b[0m\u001b[0mgca\u001b[0m\u001b[0;34m(\u001b[0m\u001b[0;34m)\u001b[0m\u001b[0;34m,\u001b[0m \u001b[0;34m*\u001b[0m\u001b[0mload_data_elies\u001b[0m\u001b[0;34m(\u001b[0m\u001b[0;34m\"dataset_symmetricdonuts.npy\"\u001b[0m\u001b[0;34m)\u001b[0m\u001b[0;34m,\u001b[0m \u001b[0mclip\u001b[0m\u001b[0;34m=\u001b[0m\u001b[0;36m.8\u001b[0m\u001b[0;34m)\u001b[0m\u001b[0;34m\u001b[0m\u001b[0;34m\u001b[0m\u001b[0m\n\u001b[0m\u001b[1;32m      4\u001b[0m \u001b[0;34m\u001b[0m\u001b[0m\n\u001b[1;32m      5\u001b[0m \u001b[0;34m\u001b[0m\u001b[0m\n",
      "\u001b[0;32m<ipython-input-4-64a9588478f2>\u001b[0m in \u001b[0;36mload_data_elies\u001b[0;34m(filename)\u001b[0m\n\u001b[1;32m     13\u001b[0m \u001b[0;34m\u001b[0m\u001b[0m\n\u001b[1;32m     14\u001b[0m \u001b[0;32mdef\u001b[0m \u001b[0mload_data_elies\u001b[0m\u001b[0;34m(\u001b[0m\u001b[0mfilename\u001b[0m\u001b[0;34m)\u001b[0m\u001b[0;34m:\u001b[0m\u001b[0;34m\u001b[0m\u001b[0;34m\u001b[0m\u001b[0m\n\u001b[0;32m---> 15\u001b[0;31m     \u001b[0;32mwith\u001b[0m \u001b[0mopen\u001b[0m\u001b[0;34m(\u001b[0m\u001b[0mfilename\u001b[0m\u001b[0;34m,\u001b[0m \u001b[0;34m'rb'\u001b[0m\u001b[0;34m)\u001b[0m \u001b[0;32mas\u001b[0m \u001b[0mf\u001b[0m\u001b[0;34m:\u001b[0m\u001b[0;34m\u001b[0m\u001b[0;34m\u001b[0m\u001b[0m\n\u001b[0m\u001b[1;32m     16\u001b[0m         \u001b[0mX_dummy\u001b[0m \u001b[0;34m=\u001b[0m \u001b[0mnp\u001b[0m\u001b[0;34m.\u001b[0m\u001b[0mload\u001b[0m\u001b[0;34m(\u001b[0m\u001b[0mf\u001b[0m\u001b[0;34m)\u001b[0m\u001b[0;34m\u001b[0m\u001b[0;34m\u001b[0m\u001b[0m\n\u001b[1;32m     17\u001b[0m         \u001b[0my_dummy_label\u001b[0m \u001b[0;34m=\u001b[0m \u001b[0mnp\u001b[0m\u001b[0;34m.\u001b[0m\u001b[0mload\u001b[0m\u001b[0;34m(\u001b[0m\u001b[0mf\u001b[0m\u001b[0;34m)\u001b[0m\u001b[0;34m\u001b[0m\u001b[0;34m\u001b[0m\u001b[0m\n",
      "\u001b[0;31mFileNotFoundError\u001b[0m: [Errno 2] No such file or directory: 'dataset_symmetricdonuts.npy'"
     ]
    }
   ],
   "source": [
    "fig = fmt.figure()\n",
    "\n",
    "plot_classification(plt.gca(), *load_data_elies(\"dataset_symmetricdonuts.npy\"), clip=.8)\n",
    "\n",
    "\n",
    "plt.tight_layout()"
   ]
  },
  {
   "cell_type": "code",
   "execution_count": null,
   "id": "separate-mistake",
   "metadata": {
    "lines_to_next_cell": 0
   },
   "outputs": [],
   "source": [
    "fig = fmt.figure()\n",
    "\n",
    "plot_classification(plt.gca(), *load_data_tom(\"dataset_checkerboard.npy\"))\n",
    "\n",
    "\n",
    "plt.tight_layout()"
   ]
  },
  {
   "cell_type": "code",
   "execution_count": null,
   "id": "driven-brunei",
   "metadata": {
    "lines_to_next_cell": 2
   },
   "outputs": [],
   "source": [
    "glob.glob(\"*.npy\")"
   ]
  }
 ],
 "metadata": {
  "jupytext": {
   "formats": "ipynb,py:light",
   "text_representation": {
    "extension": ".py",
    "format_name": "light",
    "format_version": "1.5",
    "jupytext_version": "1.10.2"
   }
  },
  "kernelspec": {
   "display_name": "Python 3",
   "language": "python",
   "name": "python3"
  },
  "language_info": {
   "codemirror_mode": {
    "name": "ipython",
    "version": 3
   },
   "file_extension": ".py",
   "mimetype": "text/x-python",
   "name": "python",
   "nbconvert_exporter": "python",
   "pygments_lexer": "ipython3",
   "version": "3.8.5"
  }
 },
 "nbformat": 4,
 "nbformat_minor": 5
}
