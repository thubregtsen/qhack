{
 "cells": [
  {
   "cell_type": "markdown",
   "id": "brave-marketplace",
   "metadata": {},
   "source": [
    "**To be able to run this notebook you need to install the modified PennyLane version that contains the `qml.kernels` module via**\n",
    "```\n",
    "pip install git+https://www.github.com/johannesjmeyer/pennylane@kernel_module --upgrade\n",
    "```"
   ]
  },
  {
   "cell_type": "code",
   "execution_count": 1,
   "id": "improving-memory",
   "metadata": {},
   "outputs": [],
   "source": [
    "import pennylane as qml\n",
    "from pennylane import numpy as np\n",
    "import matplotlib as mpl\n",
    "import matplotlib.pyplot as plt\n",
    "from sklearn.svm import SVC\n",
    "from sklearn import datasets\n",
    "\n",
    "np.random.seed(42+1) # sorry, 42 did not build a nice dataset"
   ]
  },
  {
   "cell_type": "markdown",
   "id": "extreme-updating",
   "metadata": {},
   "source": [
    "# Define quantum circuit"
   ]
  },
  {
   "cell_type": "code",
   "execution_count": 3,
   "id": "located-brunei",
   "metadata": {
    "lines_to_next_cell": 0
   },
   "outputs": [],
   "source": [
    "def layer(x, params, wires, i0=0, inc=1):\n",
    "    \"\"\"Building block of the embedding Ansatz\"\"\"\n",
    "    i = i0\n",
    "    for j, wire in enumerate(wires):\n",
    "        qml.Hadamard(wires=[wire])\n",
    "        qml.RZ(x[i % len(x)], wires=[wire])\n",
    "        i += inc\n",
    "        qml.RY(params[0, j], wires=[wire])\n",
    "        \n",
    "    qml.broadcast(unitary=qml.CRZ, pattern=\"ring\", wires=wires, parameters=params[1])\n",
    "\n",
    "@qml.template\n",
    "def ansatz(x, params, wires):\n",
    "    \"\"\"The embedding Ansatz\"\"\"\n",
    "    for j, layer_params in enumerate(params):\n",
    "        layer(x, layer_params, wires, i0=j * len(wires))\n",
    "        \n",
    "def random_params(num_wires, num_layers):\n",
    "    return np.random.uniform(0, 2*np.pi, (num_layers, 2, num_wires))"
   ]
  },
  {
   "cell_type": "code",
   "execution_count": 4,
   "id": "textile-surface",
   "metadata": {},
   "outputs": [],
   "source": [
    "def accuracy(classifier, X, Y_target):\n",
    "    return 1 - np.count_nonzero(classifier.predict(X) - Y_target) / len(Y_target)"
   ]
  },
  {
   "cell_type": "code",
   "execution_count": 5,
   "id": "systematic-sigma",
   "metadata": {
    "lines_to_next_cell": 2
   },
   "outputs": [],
   "source": [
    "features = 2\n",
    "width = 5\n",
    "depth = 8 \n",
    "\n",
    "\n",
    "dev = qml.device(\"default.qubit\", wires=width)\n",
    "wires = list(range(width))\n",
    "\n",
    "# init the embedding kernel\n",
    "k = qml.kernels.EmbeddingKernel(lambda x, params: ansatz(x, params, wires), dev)\n",
    "\n",
    "\n"
   ]
  },
  {
   "cell_type": "code",
   "execution_count": 6,
   "id": "emerging-driving",
   "metadata": {
    "lines_to_next_cell": 0
   },
   "outputs": [
    {
     "name": "stdout",
     "output_type": "stream",
     "text": [
      "(320, 2)\n",
      "(320, 2)\n"
     ]
    }
   ],
   "source": [
    "dim = 4\n",
    "\n",
    "init_false = False\n",
    "init_true = False\n",
    "for i in range(dim):\n",
    "    for j in range(dim):\n",
    "        pos_x = i\n",
    "        pos_y = j\n",
    "        data = (np.random.random((40,2))-0.5)/(2*dim)\n",
    "        data[:,0] += (2*pos_x+1)/(2*dim)\n",
    "        data[:,1] += (2*pos_y+1)/(2*dim)\n",
    "        if (i%2 == 0 and j%2 == 0) or (i%2 == 1 and j%2 == 1):\n",
    "            if init_false == False:\n",
    "                false = data\n",
    "                init_false = True\n",
    "            else:\n",
    "                false = np.vstack([false, data])\n",
    "        else:\n",
    "            if init_true == False:\n",
    "                true = data\n",
    "                init_true = True\n",
    "            else:\n",
    "                true = np.vstack([true, data])\n",
    "print(false.shape)\n",
    "print(true.shape)"
   ]
  },
  {
   "cell_type": "markdown",
   "id": "peripheral-explorer",
   "metadata": {},
   "source": [
    "# Define dataset"
   ]
  },
  {
   "cell_type": "code",
   "execution_count": 7,
   "id": "exclusive-powder",
   "metadata": {},
   "outputs": [
    {
     "name": "stdout",
     "output_type": "stream",
     "text": [
      "The training data is as follows:\n",
      "The test data is as follows:\n"
     ]
    },
    {
     "data": {
      "text/plain": [
       "<matplotlib.legend.Legend at 0x7fb9e6eb12e0>"
      ]
     },
     "execution_count": 7,
     "metadata": {},
     "output_type": "execute_result"
    },
    {
     "data": {
      "image/png": "[encoded data removed]",
      "text/plain": [
       "<Figure size 432x288 with 1 Axes>"
      ]
     },
     "metadata": {
      "needs_background": "light"
     },
     "output_type": "display_data"
    }
   ],
   "source": [
    "samples = 30 # number of samples to X_train[np.where(y=-1)], so total = 4*samples\n",
    "\n",
    "np.random.shuffle(false)\n",
    "np.random.shuffle(true)\n",
    "\n",
    "X_train = np.vstack([false[:samples], true[:samples]])\n",
    "y_train = np.hstack([-np.ones((samples)), np.ones((samples))])\n",
    "X_test = np.vstack([false[samples:2*samples], true[samples:2*samples]])\n",
    "y_test = np.hstack([-np.ones((samples)), np.ones((samples))])\n",
    "\n",
    "print(\"The training data is as follows:\")\n",
    "plt.scatter(X_train[np.where(y_train == 1)[0],0], X_train[np.where(y_train == 1)[0],1], color=\"b\", marker=\".\", label=\"train, 1\")\n",
    "plt.scatter(X_train[np.where(y_train == -1)[0],0], X_train[np.where(y_train == -1)[0],1], color=\"r\", marker=\".\", label=\"train, -1\")\n",
    "print(\"The test data is as follows:\")\n",
    "plt.scatter(X_test[np.where(y_train == 1)[0],0], X_test[np.where(y_train == 1)[0],1], color=\"b\", marker=\"x\", label=\"test, 1\")\n",
    "plt.scatter(X_test[np.where(y_train == -1)[0],0], X_test[np.where(y_train == -1)[0],1], color=\"r\", marker=\"x\", label=\"test, -1\")\n",
    "plt.ylim([0, 1])\n",
    "plt.xlim([0, 1])\n",
    "plt.legend()"
   ]
  },
  {
   "cell_type": "markdown",
   "id": "quality-practice",
   "metadata": {},
   "source": [
    "# Untrained Kernels"
   ]
  },
  {
   "cell_type": "markdown",
   "id": "sustainable-favor",
   "metadata": {},
   "source": [
    "Loop that tests the accuracy on test set for an SVM"
   ]
  },
  {
   "cell_type": "code",
   "execution_count": null,
   "id": "entire-shift",
   "metadata": {},
   "outputs": [],
   "source": [
    "acc_log = []\n",
    "params_log = []\n",
    "# evaluate the performance with random parameters for the kernel\n",
    "## choose random params for the kernel\n",
    "for i in range(3):\n",
    "    params = random_params(width, depth)\n",
    "    #print(params)\n",
    "    ## fit the SVM on the training data\n",
    "    svm_untrained_kernel = SVC(kernel=lambda X1, X2: k.kernel_matrix(X1, X2, params)).fit(X_train, y_train)\n",
    "    ## evaluate on the test set\n",
    "    untrained_accuracy = accuracy(svm_untrained_kernel, X_test, y_test)\n",
    "    print(\"without kernel training accuracy\", untrained_accuracy)\n",
    "    acc_log.append(untrained_accuracy)\n",
    "    params_log.append(params)\n",
    "print(\"going with\", acc_log[np.argmin(np.asarray(acc_log))])\n",
    "params = params_log[np.argmin(np.asarray(acc_log))]"
   ]
  },
  {
   "cell_type": "code",
   "execution_count": null,
   "id": "lesbian-hormone",
   "metadata": {},
   "outputs": [],
   "source": [
    "print(\"Untrained accuracies:\", acc_log)"
   ]
  },
  {
   "cell_type": "code",
   "execution_count": null,
   "id": "alert-matter",
   "metadata": {},
   "outputs": [],
   "source": [
    "params = params_log[np.argmin(np.asarray(acc_log))]"
   ]
  },
  {
   "cell_type": "code",
   "execution_count": null,
   "id": "hawaiian-niger",
   "metadata": {
    "lines_to_next_cell": 2
   },
   "outputs": [],
   "source": [
    "precision = 20 # higher is preciser and more compute time\n",
    "\n",
    "# create a dummy dataset that uniformly spans the input space\n",
    "X_dummy = []\n",
    "for i in range(0,precision+1):\n",
    "    for j in range(0,precision+1):\n",
    "        X_dummy.append([i/precision,j/precision])\n",
    "X_dummy = np.asarray(X_dummy)\n",
    "print(len(X_dummy))"
   ]
  },
  {
   "cell_type": "code",
   "execution_count": null,
   "id": "ultimate-blind",
   "metadata": {
    "lines_to_next_cell": 2
   },
   "outputs": [],
   "source": [
    "# predict (about a minute on my laptop)\n",
    "y_dummy_random_real = svm_untrained_kernel.decision_function(X_dummy)\n",
    "y_dummy_random = np.sign(y_dummy_random_real)"
   ]
  },
  {
   "cell_type": "code",
   "execution_count": null,
   "id": "inner-booth",
   "metadata": {
    "lines_to_next_cell": 2
   },
   "outputs": [],
   "source": [
    "plotting =  True"
   ]
  },
  {
   "cell_type": "code",
   "execution_count": null,
   "id": "middle-specialist",
   "metadata": {
    "lines_to_next_cell": 2
   },
   "outputs": [],
   "source": [
    "if plotting:\n",
    "    # plot in order to observe the decision boundary\n",
    "    plt.scatter(X_dummy[np.where(y_dummy_random == 1)[0],0], X_dummy[np.where(y_dummy_random == 1)[0],1], color=\"b\", marker=\".\",label=\"dummy, 1\")\n",
    "    plt.scatter(X_dummy[np.where(y_dummy_random == -1)[0],0], X_dummy[np.where(y_dummy_random == -1)[0],1], color=\"r\", marker=\".\",label=\"dummy, -1\")\n",
    "    plt.scatter(X_train[np.where(y_train == 1)[0],0], X_train[np.where(y_train == 1)[0],1], color=\"b\", marker=\"+\", label=\"train, 1\")\n",
    "    plt.scatter(X_train[np.where(y_train == -1)[0],0], X_train[np.where(y_train == -1)[0],1], color=\"r\", marker=\"+\", label=\"train, -1\")\n",
    "    plt.scatter(X_test[np.where(y_train == 1)[0],0], X_test[np.where(y_train == 1)[0],1], color=\"b\", marker=\"x\", label=\"test, 1\")\n",
    "    plt.scatter(X_test[np.where(y_train == -1)[0],0], X_test[np.where(y_train == -1)[0],1], color=\"r\", marker=\"x\", label=\"test, -1\")\n",
    "    plt.ylim([0, 1])\n",
    "    plt.xlim([0, 1])\n",
    "    plt.legend()"
   ]
  },
  {
   "cell_type": "code",
   "execution_count": null,
   "id": "possible-honor",
   "metadata": {},
   "outputs": [],
   "source": [
    "if plotting:\n",
    "    plt.scatter(X_dummy[:,0], X_dummy[:,1], s=50, c = y_dummy_random_real, alpha=1, marker='s')"
   ]
  },
  {
   "cell_type": "markdown",
   "id": "elegant-fraction",
   "metadata": {},
   "source": [
    "## save data"
   ]
  },
  {
   "cell_type": "code",
   "execution_count": null,
   "id": "visible-money",
   "metadata": {},
   "outputs": [],
   "source": [
    "filename = \"dataset_checkerboard_random.npy\"\n",
    "with open(filename, 'wb') as f:\n",
    "    np.save(f, X_dummy)\n",
    "    np.save(f, y_dummy_random)\n",
    "    np.save(f, y_dummy_random_real)\n",
    "#    np.save(f, y_dummy)\n",
    "#    np.save(f, y_dummy_real)\n",
    "    np.save(f, X_train)\n",
    "    np.save(f, y_train)\n",
    "    np.save(f, X_test)\n",
    "    np.save(f, y_test)\n",
    "print('test')"
   ]
  },
  {
   "cell_type": "code",
   "execution_count": null,
   "id": "drawn-northern",
   "metadata": {},
   "outputs": [],
   "source": [
    "# evaluate the performance with trained parameters for the kernel\n",
    "## train the kernel\n",
    "alignment_log=[]\n",
    "alignment = k.target_alignment(X_train, y_train, params)\n",
    "alignment_log.append(alignment)\n",
    "print(\"Step 0 - Alignment on train = {:.3f}\".format(alignment))\n",
    "opt = qml.GradientDescentOptimizer(2)\n",
    "for i in range(1000):\n",
    "    subset = np.random.choice(list(range(len(X_train))), 4)\n",
    "    params = opt.step(lambda _params: -k.target_alignment(X_train[subset], y_train[subset], _params), params)\n",
    "    \n",
    "    if (i+1) % 50 == 0:\n",
    "        alignment = k.target_alignment(X_train, y_train, params)\n",
    "        alignment_log.append(alignment)\n",
    "        print(\"Step {} - Alignment on train = {:.3f}\".format(i+1, alignment))\n",
    "## fit the SVM on the train set\n",
    "svm_trained_kernel = SVC(kernel=lambda X1, X2: k.kernel_matrix(X1, X2, params)).fit(X_train, y_train)\n",
    "## evaluate the accuracy on the test set\n",
    "trained_accuracy = accuracy(svm_trained_kernel, X_test, y_test)\n",
    "print(\"with kernel training accuracy on test\", trained_accuracy)\n",
    "# predict (about a minute on my laptop)\n",
    "y_dummy_real = svm_trained_kernel.decision_function(X_dummy)\n",
    "y_dummy = np.sign(y_dummy_real)"
   ]
  },
  {
   "cell_type": "code",
   "execution_count": null,
   "id": "coral-peoples",
   "metadata": {},
   "outputs": [],
   "source": [
    "if plotting:\n",
    "\n",
    "\n",
    "    # plot in order to observe the decision boundary\n",
    "    plt.scatter(X_dummy[np.where(y_dummy == 1)[0],0], X_dummy[np.where(y_dummy == 1)[0],1], color=\"b\", marker=\".\",label=\"dummy, 1\")\n",
    "    plt.scatter(X_dummy[np.where(y_dummy == -1)[0],0], X_dummy[np.where(y_dummy == -1)[0],1], color=\"r\", marker=\".\",label=\"dummy, -1\")\n",
    "    plt.scatter(X_train[np.where(y_train == 1)[0],0], X_train[np.where(y_train == 1)[0],1], color=\"b\", marker=\"+\", label=\"train, 1\")\n",
    "    plt.scatter(X_train[np.where(y_train == -1)[0],0], X_train[np.where(y_train == -1)[0],1], color=\"r\", marker=\"+\", label=\"train, -1\")\n",
    "    plt.scatter(X_test[np.where(y_test == 1)[0],0], X_test[np.where(y_test == 1)[0],1], color=\"b\", marker=\"x\", label=\"test, 1\")\n",
    "    plt.scatter(X_test[np.where(y_test == -1)[0],0], X_test[np.where(y_test == -1)[0],1], color=\"r\", marker=\"x\", label=\"test, -1\")\n",
    "    plt.ylim([0, 1])\n",
    "    plt.xlim([0, 1])\n",
    "    plt.legend()\n",
    "if plotting:\n",
    "    plt.scatter(X_dummy[:,0], X_dummy[:,1], s=50, c = y_dummy_real, alpha=1, marker='s')"
   ]
  },
  {
   "cell_type": "code",
   "execution_count": null,
   "id": "listed-highway",
   "metadata": {
    "lines_to_next_cell": 2
   },
   "outputs": [],
   "source": [
    "filename = \"dataset_checkerboard.npy\"\n",
    "with open(filename, 'wb') as f:\n",
    "    np.save(f, X_dummy)\n",
    "    np.save(f, y_dummy_random)\n",
    "    np.save(f, y_dummy_random_real)\n",
    "    np.save(f, y_dummy)\n",
    "    np.save(f, y_dummy_real)\n",
    "    np.save(f, X_train)\n",
    "    np.save(f, y_train)\n",
    "    np.save(f, X_test)\n",
    "    np.save(f, y_test)"
   ]
  },
  {
   "cell_type": "code",
   "execution_count": null,
   "id": "presidential-railway",
   "metadata": {},
   "outputs": [],
   "source": [
    "# with open(filename, 'rb') as f:\n",
    "#     X_dummy_c = np.load(f)\n",
    "#     y_dummy__random_c = np.load(f)\n",
    "#     y_dummy_random_real_c = np.load(f)\n",
    "#     y_dummy_c = np.load(f)\n",
    "#     y_dummy_real_c = np.load(f)\n",
    "#     X_train_c = np.load(f)\n",
    "#     y_train_c = np.load(f)\n",
    "#     X_test_c = np.load(f)\n",
    "#     y_test_c = np.load(f)\n",
    "filename = \"alignment_checkerboard.npy\"\n",
    "with open(filename, 'wb') as f:\n",
    "    np.save(f, alignment_log)"
   ]
  },
  {
   "cell_type": "code",
   "execution_count": null,
   "id": "mobile-indonesia",
   "metadata": {},
   "outputs": [],
   "source": []
  }
 ],
 "metadata": {
  "jupytext": {
   "encoding": "# -*- coding: utf-8 -*-",
   "formats": "ipynb,py:light",
   "text_representation": {
    "extension": ".py",
    "format_name": "light",
    "format_version": "1.5",
    "jupytext_version": "1.10.2"
   }
  },
  "kernelspec": {
   "display_name": "Python 3",
   "language": "python",
   "name": "python3"
  },
  "language_info": {
   "codemirror_mode": {
    "name": "ipython",
    "version": 3
   },
   "file_extension": ".py",
   "mimetype": "text/x-python",
   "name": "python",
   "nbconvert_exporter": "python",
   "pygments_lexer": "ipython3",
   "version": "3.8.5"
  }
 },
 "nbformat": 4,
 "nbformat_minor": 5
}
